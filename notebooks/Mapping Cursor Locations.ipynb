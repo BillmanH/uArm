{
 "cells": [
  {
   "cell_type": "markdown",
   "id": "e69f9174-515b-43e4-bd9f-5d27b8fcdb0d",
   "metadata": {},
   "source": [
    "# Maping the location of the cursour and servos"
   ]
  },
  {
   "cell_type": "code",
   "execution_count": 1,
   "id": "15b4fb2a-430e-4b44-8c9d-63e851cd9aa4",
   "metadata": {},
   "outputs": [],
   "source": [
    "import sys, time\n",
    "import numpy as np\n",
    "import altair as alt\n",
    "#the uArm application is inside of the directory \n",
    "sys.path.append('..')\n",
    "from uarm.wrapper import SwiftAPI\n",
    "\n",
    "\n",
    "swift = SwiftAPI(port=\"COM3\", callback_thread_pool_size=1)"
   ]
  },
  {
   "cell_type": "code",
   "execution_count": null,
   "id": "11b963a3-39e6-4005-b9c0-f9e4ff60e52f",
   "metadata": {},
   "outputs": [],
   "source": []
  },
  {
   "cell_type": "code",
   "execution_count": null,
   "id": "3763315a-d8aa-4e63-936e-07286c439ef1",
   "metadata": {},
   "outputs": [],
   "source": [
    "swift.disconnect()"
   ]
  }
 ],
 "metadata": {
  "kernelspec": {
   "display_name": "Python (uArm)",
   "language": "python",
   "name": "uarm"
  },
  "language_info": {
   "codemirror_mode": {
    "name": "ipython",
    "version": 3
   },
   "file_extension": ".py",
   "mimetype": "text/x-python",
   "name": "python",
   "nbconvert_exporter": "python",
   "pygments_lexer": "ipython3",
   "version": "3.9.7"
  }
 },
 "nbformat": 4,
 "nbformat_minor": 5
}
