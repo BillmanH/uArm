{
 "cells": [
  {
   "cell_type": "markdown",
   "metadata": {},
   "source": [
    "# Halloween Mask\n"
   ]
  },
  {
   "cell_type": "code",
   "execution_count": 46,
   "metadata": {},
   "outputs": [],
   "source": [
    "import sys\n",
    "import time\n",
    "import numpy as np\n",
    "#the uArm application is inside of the parent directory, this assumes that you are runing this notebook in the `notebooks` directory\n",
    "sys.path.append('..')\n",
    "\n",
    "from uarm.wrapper import SwiftAPI\n",
    "from uarm.utils.log import logger\n",
    "logger.setLevel(logger.INFO)\n",
    "\n",
    "swift = SwiftAPI(callback_thread_pool_size=1)\n",
    "swift.reset(wait=True)"
   ]
  },
  {
   "cell_type": "markdown",
   "metadata": {},
   "source": [
    "The `gripper` is holding the mask. After that, don't hit the reset again as it will let go of the gripper."
   ]
  },
  {
   "cell_type": "code",
   "execution_count": 86,
   "metadata": {},
   "outputs": [],
   "source": [
    "logger.setLevel(logger.CRITICAL)"
   ]
  },
  {
   "cell_type": "code",
   "execution_count": 87,
   "metadata": {},
   "outputs": [
    {
     "name": "stdout",
     "output_type": "stream",
     "text": [
      "[VERBOSE] 2020-10-21 18:18:42 [/usr/local/lib/python3.7/dist-packages/uArm_Python_SDK-2.0.6-py3.7.egg/uarm/comm/threaded.py:102]: send: /dev/ttyACM0, b'#148 M2232 V1\\n'\n",
      "[VERBOSE] 2020-10-21 18:18:42 [/usr/local/lib/python3.7/dist-packages/uArm_Python_SDK-2.0.6-py3.7.egg/uarm/comm/__init__.py:38]: recv: $148 ok\n"
     ]
    },
    {
     "data": {
      "text/plain": [
       "'OK'"
      ]
     },
     "execution_count": 87,
     "metadata": {},
     "output_type": "execute_result"
    }
   ],
   "source": [
    "swift.set_gripper(True)"
   ]
  },
  {
   "cell_type": "code",
   "execution_count": 60,
   "metadata": {},
   "outputs": [
    {
     "name": "stdout",
     "output_type": "stream",
     "text": [
      "[VERBOSE] 2020-10-21 18:06:14 [/usr/local/lib/python3.7/dist-packages/uArm_Python_SDK-2.0.6-py3.7.egg/uarm/comm/threaded.py:102]: send: /dev/ttyACM0, b'#104 G0 X100.0 Y100.0 Z130.0 F1000.0\\n'\n",
      "[VERBOSE] 2020-10-21 18:06:14 [/usr/local/lib/python3.7/dist-packages/uArm_Python_SDK-2.0.6-py3.7.egg/uarm/comm/__init__.py:38]: recv: $104 ok\n"
     ]
    },
    {
     "data": {
      "text/plain": [
       "'OK'"
      ]
     },
     "execution_count": 60,
     "metadata": {},
     "output_type": "execute_result"
    }
   ],
   "source": [
    "swift.set_position(x=100, y=100, z=130,wait=True)"
   ]
  },
  {
   "cell_type": "code",
   "execution_count": 18,
   "metadata": {},
   "outputs": [
    {
     "name": "stdout",
     "output_type": "stream",
     "text": [
      "[VERBOSE] 2020-10-21 14:05:02 [/usr/local/lib/python3.7/dist-packages/uArm_Python_SDK-2.0.6-py3.7.egg/uarm/comm/threaded.py:102]: send: /dev/ttyACM0, b'#47 P2220\\n'\n",
      "[VERBOSE] 2020-10-21 14:05:02 [/usr/local/lib/python3.7/dist-packages/uArm_Python_SDK-2.0.6-py3.7.egg/uarm/comm/__init__.py:38]: recv: $47 ok X100.00 Y100.00 Z100.00\n"
     ]
    },
    {
     "data": {
      "text/plain": [
       "[100.0, 100.0, 100.0]"
      ]
     },
     "execution_count": 18,
     "metadata": {},
     "output_type": "execute_result"
    }
   ],
   "source": [
    "swift.get_position()"
   ]
  },
  {
   "cell_type": "code",
   "execution_count": 63,
   "metadata": {},
   "outputs": [
    {
     "name": "stdout",
     "output_type": "stream",
     "text": [
      "[VERBOSE] 2020-10-21 18:08:19 [/usr/local/lib/python3.7/dist-packages/uArm_Python_SDK-2.0.6-py3.7.egg/uarm/comm/threaded.py:102]: send: /dev/ttyACM0, b'#106 P2200\\n'\n",
      "[VERBOSE] 2020-10-21 18:08:19 [/usr/local/lib/python3.7/dist-packages/uArm_Python_SDK-2.0.6-py3.7.egg/uarm/comm/__init__.py:38]: recv: $106 ok B135.09 L128.15 R5.91\n"
     ]
    },
    {
     "data": {
      "text/plain": [
       "[135.09, 128.15, 5.91]"
      ]
     },
     "execution_count": 63,
     "metadata": {},
     "output_type": "execute_result"
    }
   ],
   "source": [
    "swift.get_servo_angle()"
   ]
  },
  {
   "cell_type": "code",
   "execution_count": 72,
   "metadata": {},
   "outputs": [
    {
     "name": "stdout",
     "output_type": "stream",
     "text": [
      "[VERBOSE] 2020-10-21 18:10:17 [/usr/local/lib/python3.7/dist-packages/uArm_Python_SDK-2.0.6-py3.7.egg/uarm/comm/threaded.py:102]: send: /dev/ttyACM0, b'#115 P2200\\n'\n",
      "[VERBOSE] 2020-10-21 18:10:17 [/usr/local/lib/python3.7/dist-packages/uArm_Python_SDK-2.0.6-py3.7.egg/uarm/comm/__init__.py:38]: recv: $115 ok B135.09 L128.15 R5.91\n"
     ]
    },
    {
     "data": {
      "text/plain": [
       "[135.09, 128.15, 5.91]"
      ]
     },
     "execution_count": 72,
     "metadata": {},
     "output_type": "execute_result"
    }
   ],
   "source": [
    "swift.get_servo_angle()"
   ]
  },
  {
   "cell_type": "code",
   "execution_count": 84,
   "metadata": {},
   "outputs": [
    {
     "name": "stdout",
     "output_type": "stream",
     "text": [
      "[VERBOSE] 2020-10-21 18:13:45 [/usr/local/lib/python3.7/dist-packages/uArm_Python_SDK-2.0.6-py3.7.egg/uarm/comm/threaded.py:102]: send: /dev/ttyACM0, b'#127 G2202 N0 V90 F500000.0\\n'\n",
      "[VERBOSE] 2020-10-21 18:13:45 [/usr/local/lib/python3.7/dist-packages/uArm_Python_SDK-2.0.6-py3.7.egg/uarm/comm/__init__.py:38]: recv: $127 ok\n"
     ]
    }
   ],
   "source": [
    "swift.set_servo_angle(0,90,speed=500000)"
   ]
  },
  {
   "cell_type": "code",
   "execution_count": 21,
   "metadata": {},
   "outputs": [
    {
     "name": "stdout",
     "output_type": "stream",
     "text": [
      "[VERBOSE] 2020-10-21 14:06:37 [/usr/local/lib/python3.7/dist-packages/uArm_Python_SDK-2.0.6-py3.7.egg/uarm/comm/threaded.py:102]: send: /dev/ttyACM0, b'#50 G0 X200.0 Y0.0 Z100.0 F5000\\n'\n",
      "[VERBOSE] 2020-10-21 14:06:37 [/usr/local/lib/python3.7/dist-packages/uArm_Python_SDK-2.0.6-py3.7.egg/uarm/comm/threaded.py:102]: send: /dev/ttyACM0, b'#51 G0 X100.0 Y100.0 Z130.0 F5000\\n'\n",
      "[VERBOSE] 2020-10-21 14:06:37 [/usr/local/lib/python3.7/dist-packages/uArm_Python_SDK-2.0.6-py3.7.egg/uarm/comm/__init__.py:38]: recv: $50 ok\n",
      "[VERBOSE] 2020-10-21 14:06:41 [/usr/local/lib/python3.7/dist-packages/uArm_Python_SDK-2.0.6-py3.7.egg/uarm/comm/__init__.py:38]: recv: $51 ok\n",
      "[VERBOSE] 2020-10-21 14:06:41 [/usr/local/lib/python3.7/dist-packages/uArm_Python_SDK-2.0.6-py3.7.egg/uarm/comm/threaded.py:102]: send: /dev/ttyACM0, b'#52 G0 X200.0 Y0.0 Z100.0 F5000\\n'\n",
      "[VERBOSE] 2020-10-21 14:06:44 [/usr/local/lib/python3.7/dist-packages/uArm_Python_SDK-2.0.6-py3.7.egg/uarm/comm/__init__.py:38]: recv: $52 ok\n"
     ]
    }
   ],
   "source": [
    "swift.set_position(x=200, y=0, z=100)\n",
    "swift.set_position(x=100, y=100, z=130,wait=True)\n",
    "swift.set_position(x=200, y=0, z=100)"
   ]
  },
  {
   "cell_type": "code",
   "execution_count": 20,
   "metadata": {},
   "outputs": [
    {
     "name": "stdout",
     "output_type": "stream",
     "text": [
      "[VERBOSE] 2020-10-21 14:05:52 [/usr/local/lib/python3.7/dist-packages/uArm_Python_SDK-2.0.6-py3.7.egg/uarm/comm/threaded.py:102]: send: /dev/ttyACM0, b'#49 G0 X60.0 Y0.0 Z100.0 F5000\\n'\n",
      "[VERBOSE] 2020-10-21 14:05:52 [/usr/local/lib/python3.7/dist-packages/uArm_Python_SDK-2.0.6-py3.7.egg/uarm/comm/__init__.py:38]: recv: $49 ok E22 unreachable\n",
      "[VERBOSE] 2020-10-21 14:05:52 [/usr/local/lib/python3.7/dist-packages/uArm_Python_SDK-2.0.6-py3.7.egg/uarm/comm/__init__.py:38]: recv: \n"
     ]
    },
    {
     "data": {
      "text/plain": [
       "'OK'"
      ]
     },
     "execution_count": 20,
     "metadata": {},
     "output_type": "execute_result"
    }
   ],
   "source": [
    "swift.set_position(x=60, wait=True)"
   ]
  },
  {
   "cell_type": "code",
   "execution_count": 45,
   "metadata": {},
   "outputs": [
    {
     "name": "stdout",
     "output_type": "stream",
     "text": [
      "[VERBOSE] 2020-10-21 17:38:31 [/usr/local/lib/python3.7/dist-packages/uArm_Python_SDK-2.0.6-py3.7.egg/uarm/comm/threaded.py:102]: send: /dev/ttyACM0, b'#18 G2204 X-10.0 Y0 Z0 F5000\\n'\n",
      "[VERBOSE] 2020-10-21 17:38:32 [/usr/local/lib/python3.7/dist-packages/uArm_Python_SDK-2.0.6-py3.7.egg/uarm/comm/__init__.py:38]: recv: $18 ok\n",
      "[VERBOSE] 2020-10-21 17:38:32 [/usr/local/lib/python3.7/dist-packages/uArm_Python_SDK-2.0.6-py3.7.egg/uarm/comm/threaded.py:102]: send: /dev/ttyACM0, b'#19 G2204 X0 Y-10.0 Z0 F5000\\n'\n",
      "[VERBOSE] 2020-10-21 17:38:32 [/usr/local/lib/python3.7/dist-packages/uArm_Python_SDK-2.0.6-py3.7.egg/uarm/comm/__init__.py:38]: recv: $19 ok\n",
      "[VERBOSE] 2020-10-21 17:38:32 [/usr/local/lib/python3.7/dist-packages/uArm_Python_SDK-2.0.6-py3.7.egg/uarm/comm/threaded.py:102]: send: /dev/ttyACM0, b'#20 G2204 X0 Y0 Z-10.0 F5000\\n'\n",
      "[VERBOSE] 2020-10-21 17:38:32 [/usr/local/lib/python3.7/dist-packages/uArm_Python_SDK-2.0.6-py3.7.egg/uarm/comm/__init__.py:38]: recv: $20 ok\n",
      "[VERBOSE] 2020-10-21 17:38:32 [/usr/local/lib/python3.7/dist-packages/uArm_Python_SDK-2.0.6-py3.7.egg/uarm/comm/threaded.py:102]: send: /dev/ttyACM0, b'#21 G2204 X10.0 Y0 Z0 F5000\\n'\n",
      "[VERBOSE] 2020-10-21 17:38:32 [/usr/local/lib/python3.7/dist-packages/uArm_Python_SDK-2.0.6-py3.7.egg/uarm/comm/__init__.py:38]: recv: $21 ok\n",
      "[VERBOSE] 2020-10-21 17:38:32 [/usr/local/lib/python3.7/dist-packages/uArm_Python_SDK-2.0.6-py3.7.egg/uarm/comm/threaded.py:102]: send: /dev/ttyACM0, b'#22 G2204 X0 Y10.0 Z0 F5000\\n'\n",
      "[VERBOSE] 2020-10-21 17:38:33 [/usr/local/lib/python3.7/dist-packages/uArm_Python_SDK-2.0.6-py3.7.egg/uarm/comm/__init__.py:38]: recv: $22 ok\n",
      "[VERBOSE] 2020-10-21 17:38:33 [/usr/local/lib/python3.7/dist-packages/uArm_Python_SDK-2.0.6-py3.7.egg/uarm/comm/threaded.py:102]: send: /dev/ttyACM0, b'#23 G2204 X0 Y0 Z10.0 F5000\\n'\n",
      "[VERBOSE] 2020-10-21 17:38:33 [/usr/local/lib/python3.7/dist-packages/uArm_Python_SDK-2.0.6-py3.7.egg/uarm/comm/__init__.py:38]: recv: $23 ok\n"
     ]
    },
    {
     "data": {
      "text/plain": [
       "'OK'"
      ]
     },
     "execution_count": 45,
     "metadata": {},
     "output_type": "execute_result"
    }
   ],
   "source": [
    "#down \n",
    "swift.set_position(x=-10,relative=True,wait=True)\n",
    "swift.set_position(y=-10,relative=True,wait=True)\n",
    "swift.set_position(z=-10,relative=True,wait=True)\n",
    "#back\n",
    "swift.set_position(x=10,relative=True,wait=True)\n",
    "swift.set_position(y=10,relative=True,wait=True)\n",
    "swift.set_position(z=10,relative=True,wait=True)"
   ]
  },
  {
   "cell_type": "code",
   "execution_count": 93,
   "metadata": {},
   "outputs": [
    {
     "data": {
      "text/plain": [
       "[0, 160]"
      ]
     },
     "execution_count": 93,
     "metadata": {},
     "output_type": "execute_result"
    }
   ],
   "source": [
    "def pick_axis():\n",
    "    choices = [0,1]\n",
    "    distaces = [10,45,90,135,160]\n",
    "    return [np.random.choice(choices),np.random.choice(distaces)]\n",
    "\n",
    "pick_axis()"
   ]
  },
  {
   "cell_type": "code",
   "execution_count": 90,
   "metadata": {},
   "outputs": [
    {
     "name": "stdout",
     "output_type": "stream",
     "text": [
      "[VERBOSE] 2020-10-21 18:20:04 [/usr/local/lib/python3.7/dist-packages/uArm_Python_SDK-2.0.6-py3.7.egg/uarm/comm/threaded.py:102]: send: /dev/ttyACM0, b'#158 M17\\n'\n",
      "[VERBOSE] 2020-10-21 18:20:05 [/usr/local/lib/python3.7/dist-packages/uArm_Python_SDK-2.0.6-py3.7.egg/uarm/comm/__init__.py:38]: recv: $158 ok\n",
      "[VERBOSE] 2020-10-21 18:20:05 [/usr/local/lib/python3.7/dist-packages/uArm_Python_SDK-2.0.6-py3.7.egg/uarm/comm/threaded.py:102]: send: /dev/ttyACM0, b'#159 G0 X200.0 Y0.0 Z150.0 F1000.0\\n'\n",
      "[VERBOSE] 2020-10-21 18:20:07 [/usr/local/lib/python3.7/dist-packages/uArm_Python_SDK-2.0.6-py3.7.egg/uarm/comm/__init__.py:38]: recv: $159 ok\n",
      "[VERBOSE] 2020-10-21 18:20:07 [/usr/local/lib/python3.7/dist-packages/uArm_Python_SDK-2.0.6-py3.7.egg/uarm/comm/threaded.py:102]: send: /dev/ttyACM0, b'#160 M2231 V0\\n'\n",
      "[VERBOSE] 2020-10-21 18:20:07 [/usr/local/lib/python3.7/dist-packages/uArm_Python_SDK-2.0.6-py3.7.egg/uarm/comm/__init__.py:38]: recv: $160 ok\n",
      "[VERBOSE] 2020-10-21 18:20:07 [/usr/local/lib/python3.7/dist-packages/uArm_Python_SDK-2.0.6-py3.7.egg/uarm/comm/threaded.py:102]: send: /dev/ttyACM0, b'#161 M2232 V0\\n'\n",
      "[VERBOSE] 2020-10-21 18:20:07 [/usr/local/lib/python3.7/dist-packages/uArm_Python_SDK-2.0.6-py3.7.egg/uarm/comm/__init__.py:38]: recv: $161 ok\n",
      "[VERBOSE] 2020-10-21 18:20:07 [/usr/local/lib/python3.7/dist-packages/uArm_Python_SDK-2.0.6-py3.7.egg/uarm/comm/threaded.py:102]: send: /dev/ttyACM0, b'#162 G2202 N3 V90 F500000.0\\n'\n",
      "[VERBOSE] 2020-10-21 18:20:07 [/usr/local/lib/python3.7/dist-packages/uArm_Python_SDK-2.0.6-py3.7.egg/uarm/comm/__init__.py:38]: recv: $162 ok\n"
     ]
    }
   ],
   "source": [
    "swift.reset(wait=True)"
   ]
  },
  {
   "cell_type": "code",
   "execution_count": 94,
   "metadata": {},
   "outputs": [
    {
     "name": "stdout",
     "output_type": "stream",
     "text": [
      "[VERBOSE] 2020-10-21 19:39:34 [/usr/local/lib/python3.7/dist-packages/uArm_Python_SDK-2.0.6-py3.7.egg/uarm/comm/threaded.py:102]: send: /dev/ttyACM0, b'#509 M17\\n'\n",
      "[VERBOSE] 2020-10-21 19:39:35 [/usr/local/lib/python3.7/dist-packages/uArm_Python_SDK-2.0.6-py3.7.egg/uarm/comm/__init__.py:38]: recv: $509 ok\n",
      "[VERBOSE] 2020-10-21 19:39:35 [/usr/local/lib/python3.7/dist-packages/uArm_Python_SDK-2.0.6-py3.7.egg/uarm/comm/threaded.py:102]: send: /dev/ttyACM0, b'#510 G0 X200.0 Y0.0 Z150.0 F10000.0\\n'\n",
      "[VERBOSE] 2020-10-21 19:39:35 [/usr/local/lib/python3.7/dist-packages/uArm_Python_SDK-2.0.6-py3.7.egg/uarm/comm/__init__.py:38]: recv: $510 ok\n",
      "[VERBOSE] 2020-10-21 19:39:35 [/usr/local/lib/python3.7/dist-packages/uArm_Python_SDK-2.0.6-py3.7.egg/uarm/comm/threaded.py:102]: send: /dev/ttyACM0, b'#511 M2231 V0\\n'\n",
      "[VERBOSE] 2020-10-21 19:39:35 [/usr/local/lib/python3.7/dist-packages/uArm_Python_SDK-2.0.6-py3.7.egg/uarm/comm/__init__.py:38]: recv: $511 ok\n",
      "[VERBOSE] 2020-10-21 19:39:35 [/usr/local/lib/python3.7/dist-packages/uArm_Python_SDK-2.0.6-py3.7.egg/uarm/comm/threaded.py:102]: send: /dev/ttyACM0, b'#512 M2232 V0\\n'\n",
      "[VERBOSE] 2020-10-21 19:39:35 [/usr/local/lib/python3.7/dist-packages/uArm_Python_SDK-2.0.6-py3.7.egg/uarm/comm/__init__.py:38]: recv: $512 ok\n",
      "[VERBOSE] 2020-10-21 19:39:35 [/usr/local/lib/python3.7/dist-packages/uArm_Python_SDK-2.0.6-py3.7.egg/uarm/comm/threaded.py:102]: send: /dev/ttyACM0, b'#513 G2202 N3 V90 F500000.0\\n'\n",
      "[VERBOSE] 2020-10-21 19:39:35 [/usr/local/lib/python3.7/dist-packages/uArm_Python_SDK-2.0.6-py3.7.egg/uarm/comm/__init__.py:38]: recv: $513 ok\n",
      "chosen: [0, 160]\n",
      "[VERBOSE] 2020-10-21 19:39:40 [/usr/local/lib/python3.7/dist-packages/uArm_Python_SDK-2.0.6-py3.7.egg/uarm/comm/threaded.py:102]: send: /dev/ttyACM0, b'#514 G2202 N0 V160 F500000.0\\n'\n",
      "[VERBOSE] 2020-10-21 19:39:40 [/usr/local/lib/python3.7/dist-packages/uArm_Python_SDK-2.0.6-py3.7.egg/uarm/comm/threaded.py:102]: send: /dev/ttyACM0, b'#515 M17\\n'\n",
      "[VERBOSE] 2020-10-21 19:39:40 [/usr/local/lib/python3.7/dist-packages/uArm_Python_SDK-2.0.6-py3.7.egg/uarm/comm/__init__.py:38]: recv: $514 ok\n",
      "[VERBOSE] 2020-10-21 19:39:41 [/usr/local/lib/python3.7/dist-packages/uArm_Python_SDK-2.0.6-py3.7.egg/uarm/comm/__init__.py:38]: recv: $515 ok\n",
      "[VERBOSE] 2020-10-21 19:39:41 [/usr/local/lib/python3.7/dist-packages/uArm_Python_SDK-2.0.6-py3.7.egg/uarm/comm/threaded.py:102]: send: /dev/ttyACM0, b'#516 G0 X200.0 Y0.0 Z150.0 F10000.0\\n'\n",
      "[VERBOSE] 2020-10-21 19:39:44 [/usr/local/lib/python3.7/dist-packages/uArm_Python_SDK-2.0.6-py3.7.egg/uarm/comm/__init__.py:38]: recv: $516 ok\n",
      "[VERBOSE] 2020-10-21 19:39:44 [/usr/local/lib/python3.7/dist-packages/uArm_Python_SDK-2.0.6-py3.7.egg/uarm/comm/threaded.py:102]: send: /dev/ttyACM0, b'#517 M2231 V0\\n'\n",
      "[VERBOSE] 2020-10-21 19:39:44 [/usr/local/lib/python3.7/dist-packages/uArm_Python_SDK-2.0.6-py3.7.egg/uarm/comm/__init__.py:38]: recv: $517 ok\n",
      "[VERBOSE] 2020-10-21 19:39:44 [/usr/local/lib/python3.7/dist-packages/uArm_Python_SDK-2.0.6-py3.7.egg/uarm/comm/threaded.py:102]: send: /dev/ttyACM0, b'#518 M2232 V0\\n'\n",
      "[VERBOSE] 2020-10-21 19:39:44 [/usr/local/lib/python3.7/dist-packages/uArm_Python_SDK-2.0.6-py3.7.egg/uarm/comm/__init__.py:38]: recv: $518 ok\n",
      "[VERBOSE] 2020-10-21 19:39:44 [/usr/local/lib/python3.7/dist-packages/uArm_Python_SDK-2.0.6-py3.7.egg/uarm/comm/threaded.py:102]: send: /dev/ttyACM0, b'#519 G2202 N3 V90 F500000.0\\n'\n",
      "[VERBOSE] 2020-10-21 19:39:44 [/usr/local/lib/python3.7/dist-packages/uArm_Python_SDK-2.0.6-py3.7.egg/uarm/comm/__init__.py:38]: recv: $519 ok\n",
      "chosen: [0, 90]\n",
      "[VERBOSE] 2020-10-21 19:39:49 [/usr/local/lib/python3.7/dist-packages/uArm_Python_SDK-2.0.6-py3.7.egg/uarm/comm/threaded.py:102]: send: /dev/ttyACM0, b'#520 G2202 N0 V90 F500000.0\\n'\n",
      "[VERBOSE] 2020-10-21 19:39:49 [/usr/local/lib/python3.7/dist-packages/uArm_Python_SDK-2.0.6-py3.7.egg/uarm/comm/threaded.py:102]: send: /dev/ttyACM0, b'#521 M17\\n'\n",
      "[VERBOSE] 2020-10-21 19:39:49 [/usr/local/lib/python3.7/dist-packages/uArm_Python_SDK-2.0.6-py3.7.egg/uarm/comm/__init__.py:38]: recv: $520 ok\n",
      "[VERBOSE] 2020-10-21 19:39:50 [/usr/local/lib/python3.7/dist-packages/uArm_Python_SDK-2.0.6-py3.7.egg/uarm/comm/__init__.py:38]: recv: $521 ok\n",
      "[VERBOSE] 2020-10-21 19:39:50 [/usr/local/lib/python3.7/dist-packages/uArm_Python_SDK-2.0.6-py3.7.egg/uarm/comm/threaded.py:102]: send: /dev/ttyACM0, b'#522 G0 X200.0 Y0.0 Z150.0 F10000.0\\n'\n",
      "[VERBOSE] 2020-10-21 19:39:51 [/usr/local/lib/python3.7/dist-packages/uArm_Python_SDK-2.0.6-py3.7.egg/uarm/comm/__init__.py:38]: recv: $522 ok\n",
      "[VERBOSE] 2020-10-21 19:39:51 [/usr/local/lib/python3.7/dist-packages/uArm_Python_SDK-2.0.6-py3.7.egg/uarm/comm/threaded.py:102]: send: /dev/ttyACM0, b'#523 M2231 V0\\n'\n",
      "[VERBOSE] 2020-10-21 19:39:51 [/usr/local/lib/python3.7/dist-packages/uArm_Python_SDK-2.0.6-py3.7.egg/uarm/comm/__init__.py:38]: recv: $523 ok\n",
      "[VERBOSE] 2020-10-21 19:39:51 [/usr/local/lib/python3.7/dist-packages/uArm_Python_SDK-2.0.6-py3.7.egg/uarm/comm/threaded.py:102]: send: /dev/ttyACM0, b'#524 M2232 V0\\n'\n",
      "[VERBOSE] 2020-10-21 19:39:51 [/usr/local/lib/python3.7/dist-packages/uArm_Python_SDK-2.0.6-py3.7.egg/uarm/comm/__init__.py:38]: recv: $524 ok\n",
      "[VERBOSE] 2020-10-21 19:39:51 [/usr/local/lib/python3.7/dist-packages/uArm_Python_SDK-2.0.6-py3.7.egg/uarm/comm/threaded.py:102]: send: /dev/ttyACM0, b'#525 G2202 N3 V90 F500000.0\\n'\n",
      "[VERBOSE] 2020-10-21 19:39:51 [/usr/local/lib/python3.7/dist-packages/uArm_Python_SDK-2.0.6-py3.7.egg/uarm/comm/__init__.py:38]: recv: $525 ok\n",
      "chosen: [0, 90]\n",
      "[VERBOSE] 2020-10-21 19:39:56 [/usr/local/lib/python3.7/dist-packages/uArm_Python_SDK-2.0.6-py3.7.egg/uarm/comm/threaded.py:102]: send: /dev/ttyACM0, b'#526 G2202 N0 V90 F500000.0\\n'\n",
      "[VERBOSE] 2020-10-21 19:39:56 [/usr/local/lib/python3.7/dist-packages/uArm_Python_SDK-2.0.6-py3.7.egg/uarm/comm/threaded.py:102]: send: /dev/ttyACM0, b'#527 M17\\n'\n",
      "[VERBOSE] 2020-10-21 19:39:56 [/usr/local/lib/python3.7/dist-packages/uArm_Python_SDK-2.0.6-py3.7.egg/uarm/comm/__init__.py:38]: recv: $526 ok\n",
      "[VERBOSE] 2020-10-21 19:39:57 [/usr/local/lib/python3.7/dist-packages/uArm_Python_SDK-2.0.6-py3.7.egg/uarm/comm/__init__.py:38]: recv: $527 ok\n",
      "[VERBOSE] 2020-10-21 19:39:57 [/usr/local/lib/python3.7/dist-packages/uArm_Python_SDK-2.0.6-py3.7.egg/uarm/comm/threaded.py:102]: send: /dev/ttyACM0, b'#528 G0 X200.0 Y0.0 Z150.0 F10000.0\\n'\n",
      "[VERBOSE] 2020-10-21 19:39:57 [/usr/local/lib/python3.7/dist-packages/uArm_Python_SDK-2.0.6-py3.7.egg/uarm/comm/__init__.py:38]: recv: $528 ok\n",
      "[VERBOSE] 2020-10-21 19:39:57 [/usr/local/lib/python3.7/dist-packages/uArm_Python_SDK-2.0.6-py3.7.egg/uarm/comm/threaded.py:102]: send: /dev/ttyACM0, b'#529 M2231 V0\\n'\n",
      "[VERBOSE] 2020-10-21 19:39:57 [/usr/local/lib/python3.7/dist-packages/uArm_Python_SDK-2.0.6-py3.7.egg/uarm/comm/__init__.py:38]: recv: $529 ok\n",
      "[VERBOSE] 2020-10-21 19:39:57 [/usr/local/lib/python3.7/dist-packages/uArm_Python_SDK-2.0.6-py3.7.egg/uarm/comm/threaded.py:102]: send: /dev/ttyACM0, b'#530 M2232 V0\\n'\n",
      "[VERBOSE] 2020-10-21 19:39:57 [/usr/local/lib/python3.7/dist-packages/uArm_Python_SDK-2.0.6-py3.7.egg/uarm/comm/__init__.py:38]: recv: $530 ok\n",
      "[VERBOSE] 2020-10-21 19:39:57 [/usr/local/lib/python3.7/dist-packages/uArm_Python_SDK-2.0.6-py3.7.egg/uarm/comm/threaded.py:102]: send: /dev/ttyACM0, b'#531 G2202 N3 V90 F500000.0\\n'\n",
      "[VERBOSE] 2020-10-21 19:39:57 [/usr/local/lib/python3.7/dist-packages/uArm_Python_SDK-2.0.6-py3.7.egg/uarm/comm/__init__.py:38]: recv: $531 ok\n",
      "chosen: [1, 160]\n",
      "[VERBOSE] 2020-10-21 19:40:02 [/usr/local/lib/python3.7/dist-packages/uArm_Python_SDK-2.0.6-py3.7.egg/uarm/comm/threaded.py:102]: send: /dev/ttyACM0, b'#532 G2202 N1 V160 F500000.0\\n'\n",
      "[VERBOSE] 2020-10-21 19:40:02 [/usr/local/lib/python3.7/dist-packages/uArm_Python_SDK-2.0.6-py3.7.egg/uarm/comm/threaded.py:102]: send: /dev/ttyACM0, b'#533 M17\\n'\n",
      "[VERBOSE] 2020-10-21 19:40:02 [/usr/local/lib/python3.7/dist-packages/uArm_Python_SDK-2.0.6-py3.7.egg/uarm/comm/__init__.py:38]: recv: $532 ok\n",
      "[VERBOSE] 2020-10-21 19:40:03 [/usr/local/lib/python3.7/dist-packages/uArm_Python_SDK-2.0.6-py3.7.egg/uarm/comm/__init__.py:38]: recv: $533 ok\n",
      "[VERBOSE] 2020-10-21 19:40:03 [/usr/local/lib/python3.7/dist-packages/uArm_Python_SDK-2.0.6-py3.7.egg/uarm/comm/threaded.py:102]: send: /dev/ttyACM0, b'#534 G0 X200.0 Y0.0 Z150.0 F10000.0\\n'\n",
      "[VERBOSE] 2020-10-21 19:40:05 [/usr/local/lib/python3.7/dist-packages/uArm_Python_SDK-2.0.6-py3.7.egg/uarm/comm/__init__.py:38]: recv: $534 ok\n",
      "[VERBOSE] 2020-10-21 19:40:05 [/usr/local/lib/python3.7/dist-packages/uArm_Python_SDK-2.0.6-py3.7.egg/uarm/comm/threaded.py:102]: send: /dev/ttyACM0, b'#535 M2231 V0\\n'\n",
      "[VERBOSE] 2020-10-21 19:40:05 [/usr/local/lib/python3.7/dist-packages/uArm_Python_SDK-2.0.6-py3.7.egg/uarm/comm/__init__.py:38]: recv: $535 ok\n",
      "[VERBOSE] 2020-10-21 19:40:05 [/usr/local/lib/python3.7/dist-packages/uArm_Python_SDK-2.0.6-py3.7.egg/uarm/comm/threaded.py:102]: send: /dev/ttyACM0, b'#536 M2232 V0\\n'\n",
      "[VERBOSE] 2020-10-21 19:40:05 [/usr/local/lib/python3.7/dist-packages/uArm_Python_SDK-2.0.6-py3.7.egg/uarm/comm/__init__.py:38]: recv: $536 ok\n",
      "[VERBOSE] 2020-10-21 19:40:05 [/usr/local/lib/python3.7/dist-packages/uArm_Python_SDK-2.0.6-py3.7.egg/uarm/comm/threaded.py:102]: send: /dev/ttyACM0, b'#537 G2202 N3 V90 F500000.0\\n'\n",
      "[VERBOSE] 2020-10-21 19:40:05 [/usr/local/lib/python3.7/dist-packages/uArm_Python_SDK-2.0.6-py3.7.egg/uarm/comm/__init__.py:38]: recv: $537 ok\n",
      "chosen: [1, 10]\n",
      "[VERBOSE] 2020-10-21 19:40:10 [/usr/local/lib/python3.7/dist-packages/uArm_Python_SDK-2.0.6-py3.7.egg/uarm/comm/threaded.py:102]: send: /dev/ttyACM0, b'#538 G2202 N1 V10 F500000.0\\n'\n",
      "[VERBOSE] 2020-10-21 19:40:10 [/usr/local/lib/python3.7/dist-packages/uArm_Python_SDK-2.0.6-py3.7.egg/uarm/comm/threaded.py:102]: send: /dev/ttyACM0, b'#539 M17\\n'\n",
      "[VERBOSE] 2020-10-21 19:40:10 [/usr/local/lib/python3.7/dist-packages/uArm_Python_SDK-2.0.6-py3.7.egg/uarm/comm/__init__.py:38]: recv: $538 ok\n",
      "[VERBOSE] 2020-10-21 19:40:11 [/usr/local/lib/python3.7/dist-packages/uArm_Python_SDK-2.0.6-py3.7.egg/uarm/comm/__init__.py:38]: recv: $539 ok\n",
      "[VERBOSE] 2020-10-21 19:40:11 [/usr/local/lib/python3.7/dist-packages/uArm_Python_SDK-2.0.6-py3.7.egg/uarm/comm/threaded.py:102]: send: /dev/ttyACM0, b'#540 G0 X200.0 Y0.0 Z150.0 F10000.0\\n'\n",
      "[VERBOSE] 2020-10-21 19:40:15 [/usr/local/lib/python3.7/dist-packages/uArm_Python_SDK-2.0.6-py3.7.egg/uarm/comm/__init__.py:38]: recv: $540 ok\n",
      "[VERBOSE] 2020-10-21 19:40:15 [/usr/local/lib/python3.7/dist-packages/uArm_Python_SDK-2.0.6-py3.7.egg/uarm/comm/threaded.py:102]: send: /dev/ttyACM0, b'#541 M2231 V0\\n'\n",
      "[VERBOSE] 2020-10-21 19:40:15 [/usr/local/lib/python3.7/dist-packages/uArm_Python_SDK-2.0.6-py3.7.egg/uarm/comm/__init__.py:38]: recv: $541 ok\n",
      "[VERBOSE] 2020-10-21 19:40:15 [/usr/local/lib/python3.7/dist-packages/uArm_Python_SDK-2.0.6-py3.7.egg/uarm/comm/threaded.py:102]: send: /dev/ttyACM0, b'#542 M2232 V0\\n'\n",
      "[VERBOSE] 2020-10-21 19:40:15 [/usr/local/lib/python3.7/dist-packages/uArm_Python_SDK-2.0.6-py3.7.egg/uarm/comm/__init__.py:38]: recv: $542 ok\n",
      "[VERBOSE] 2020-10-21 19:40:15 [/usr/local/lib/python3.7/dist-packages/uArm_Python_SDK-2.0.6-py3.7.egg/uarm/comm/threaded.py:102]: send: /dev/ttyACM0, b'#543 G2202 N3 V90 F500000.0\\n'\n",
      "[VERBOSE] 2020-10-21 19:40:15 [/usr/local/lib/python3.7/dist-packages/uArm_Python_SDK-2.0.6-py3.7.egg/uarm/comm/__init__.py:38]: recv: $543 ok\n",
      "chosen: [0, 90]\n",
      "[VERBOSE] 2020-10-21 19:40:20 [/usr/local/lib/python3.7/dist-packages/uArm_Python_SDK-2.0.6-py3.7.egg/uarm/comm/threaded.py:102]: send: /dev/ttyACM0, b'#544 G2202 N0 V90 F500000.0\\n'\n",
      "[VERBOSE] 2020-10-21 19:40:20 [/usr/local/lib/python3.7/dist-packages/uArm_Python_SDK-2.0.6-py3.7.egg/uarm/comm/threaded.py:102]: send: /dev/ttyACM0, b'#545 M17\\n'\n",
      "[VERBOSE] 2020-10-21 19:40:20 [/usr/local/lib/python3.7/dist-packages/uArm_Python_SDK-2.0.6-py3.7.egg/uarm/comm/__init__.py:38]: recv: $544 ok\n",
      "[VERBOSE] 2020-10-21 19:40:21 [/usr/local/lib/python3.7/dist-packages/uArm_Python_SDK-2.0.6-py3.7.egg/uarm/comm/__init__.py:38]: recv: $545 ok\n",
      "[VERBOSE] 2020-10-21 19:40:21 [/usr/local/lib/python3.7/dist-packages/uArm_Python_SDK-2.0.6-py3.7.egg/uarm/comm/threaded.py:102]: send: /dev/ttyACM0, b'#546 G0 X200.0 Y0.0 Z150.0 F10000.0\\n'\n",
      "[VERBOSE] 2020-10-21 19:40:21 [/usr/local/lib/python3.7/dist-packages/uArm_Python_SDK-2.0.6-py3.7.egg/uarm/comm/__init__.py:38]: recv: $546 ok\n",
      "[VERBOSE] 2020-10-21 19:40:21 [/usr/local/lib/python3.7/dist-packages/uArm_Python_SDK-2.0.6-py3.7.egg/uarm/comm/threaded.py:102]: send: /dev/ttyACM0, b'#547 M2231 V0\\n'\n",
      "[VERBOSE] 2020-10-21 19:40:21 [/usr/local/lib/python3.7/dist-packages/uArm_Python_SDK-2.0.6-py3.7.egg/uarm/comm/__init__.py:38]: recv: $547 ok\n",
      "[VERBOSE] 2020-10-21 19:40:21 [/usr/local/lib/python3.7/dist-packages/uArm_Python_SDK-2.0.6-py3.7.egg/uarm/comm/threaded.py:102]: send: /dev/ttyACM0, b'#548 M2232 V0\\n'\n",
      "[VERBOSE] 2020-10-21 19:40:21 [/usr/local/lib/python3.7/dist-packages/uArm_Python_SDK-2.0.6-py3.7.egg/uarm/comm/__init__.py:38]: recv: $548 ok\n",
      "[VERBOSE] 2020-10-21 19:40:21 [/usr/local/lib/python3.7/dist-packages/uArm_Python_SDK-2.0.6-py3.7.egg/uarm/comm/threaded.py:102]: send: /dev/ttyACM0, b'#549 G2202 N3 V90 F500000.0\\n'\n",
      "[VERBOSE] 2020-10-21 19:40:21 [/usr/local/lib/python3.7/dist-packages/uArm_Python_SDK-2.0.6-py3.7.egg/uarm/comm/__init__.py:38]: recv: $549 ok\n",
      "chosen: [1, 135]\n",
      "[VERBOSE] 2020-10-21 19:40:26 [/usr/local/lib/python3.7/dist-packages/uArm_Python_SDK-2.0.6-py3.7.egg/uarm/comm/threaded.py:102]: send: /dev/ttyACM0, b'#550 G2202 N1 V135 F500000.0\\n'\n",
      "[VERBOSE] 2020-10-21 19:40:26 [/usr/local/lib/python3.7/dist-packages/uArm_Python_SDK-2.0.6-py3.7.egg/uarm/comm/threaded.py:102]: send: /dev/ttyACM0, b'#551 M17\\n'\n",
      "[VERBOSE] 2020-10-21 19:40:26 [/usr/local/lib/python3.7/dist-packages/uArm_Python_SDK-2.0.6-py3.7.egg/uarm/comm/__init__.py:38]: recv: $550 ok\n",
      "[VERBOSE] 2020-10-21 19:40:27 [/usr/local/lib/python3.7/dist-packages/uArm_Python_SDK-2.0.6-py3.7.egg/uarm/comm/__init__.py:38]: recv: $551 ok\n",
      "[VERBOSE] 2020-10-21 19:40:27 [/usr/local/lib/python3.7/dist-packages/uArm_Python_SDK-2.0.6-py3.7.egg/uarm/comm/threaded.py:102]: send: /dev/ttyACM0, b'#552 G0 X200.0 Y0.0 Z150.0 F10000.0\\n'\n",
      "[VERBOSE] 2020-10-21 19:40:28 [/usr/local/lib/python3.7/dist-packages/uArm_Python_SDK-2.0.6-py3.7.egg/uarm/comm/__init__.py:38]: recv: $552 ok\n",
      "[VERBOSE] 2020-10-21 19:40:28 [/usr/local/lib/python3.7/dist-packages/uArm_Python_SDK-2.0.6-py3.7.egg/uarm/comm/threaded.py:102]: send: /dev/ttyACM0, b'#553 M2231 V0\\n'\n",
      "[VERBOSE] 2020-10-21 19:40:28 [/usr/local/lib/python3.7/dist-packages/uArm_Python_SDK-2.0.6-py3.7.egg/uarm/comm/__init__.py:38]: recv: $553 ok\n",
      "[VERBOSE] 2020-10-21 19:40:28 [/usr/local/lib/python3.7/dist-packages/uArm_Python_SDK-2.0.6-py3.7.egg/uarm/comm/threaded.py:102]: send: /dev/ttyACM0, b'#554 M2232 V0\\n'\n",
      "[VERBOSE] 2020-10-21 19:40:28 [/usr/local/lib/python3.7/dist-packages/uArm_Python_SDK-2.0.6-py3.7.egg/uarm/comm/__init__.py:38]: recv: $554 ok\n",
      "[VERBOSE] 2020-10-21 19:40:28 [/usr/local/lib/python3.7/dist-packages/uArm_Python_SDK-2.0.6-py3.7.egg/uarm/comm/threaded.py:102]: send: /dev/ttyACM0, b'#555 G2202 N3 V90 F500000.0\\n'\n",
      "[VERBOSE] 2020-10-21 19:40:28 [/usr/local/lib/python3.7/dist-packages/uArm_Python_SDK-2.0.6-py3.7.egg/uarm/comm/__init__.py:38]: recv: $555 ok\n",
      "chosen: [0, 45]\n",
      "[VERBOSE] 2020-10-21 19:40:33 [/usr/local/lib/python3.7/dist-packages/uArm_Python_SDK-2.0.6-py3.7.egg/uarm/comm/threaded.py:102]: send: /dev/ttyACM0, b'#556 G2202 N0 V45 F500000.0\\n'\n",
      "[VERBOSE] 2020-10-21 19:40:33 [/usr/local/lib/python3.7/dist-packages/uArm_Python_SDK-2.0.6-py3.7.egg/uarm/comm/threaded.py:102]: send: /dev/ttyACM0, b'#557 M17\\n'\n",
      "[VERBOSE] 2020-10-21 19:40:33 [/usr/local/lib/python3.7/dist-packages/uArm_Python_SDK-2.0.6-py3.7.egg/uarm/comm/__init__.py:38]: recv: $556 ok\n",
      "[VERBOSE] 2020-10-21 19:40:34 [/usr/local/lib/python3.7/dist-packages/uArm_Python_SDK-2.0.6-py3.7.egg/uarm/comm/__init__.py:38]: recv: $557 ok\n",
      "[VERBOSE] 2020-10-21 19:40:34 [/usr/local/lib/python3.7/dist-packages/uArm_Python_SDK-2.0.6-py3.7.egg/uarm/comm/threaded.py:102]: send: /dev/ttyACM0, b'#558 G0 X200.0 Y0.0 Z150.0 F10000.0\\n'\n",
      "[VERBOSE] 2020-10-21 19:40:37 [/usr/local/lib/python3.7/dist-packages/uArm_Python_SDK-2.0.6-py3.7.egg/uarm/comm/__init__.py:38]: recv: $558 ok\n",
      "[VERBOSE] 2020-10-21 19:40:37 [/usr/local/lib/python3.7/dist-packages/uArm_Python_SDK-2.0.6-py3.7.egg/uarm/comm/threaded.py:102]: send: /dev/ttyACM0, b'#559 M2231 V0\\n'\n",
      "[VERBOSE] 2020-10-21 19:40:37 [/usr/local/lib/python3.7/dist-packages/uArm_Python_SDK-2.0.6-py3.7.egg/uarm/comm/__init__.py:38]: recv: $559 ok\n",
      "[VERBOSE] 2020-10-21 19:40:37 [/usr/local/lib/python3.7/dist-packages/uArm_Python_SDK-2.0.6-py3.7.egg/uarm/comm/threaded.py:102]: send: /dev/ttyACM0, b'#560 M2232 V0\\n'\n",
      "[VERBOSE] 2020-10-21 19:40:37 [/usr/local/lib/python3.7/dist-packages/uArm_Python_SDK-2.0.6-py3.7.egg/uarm/comm/__init__.py:38]: recv: $560 ok\n",
      "[VERBOSE] 2020-10-21 19:40:37 [/usr/local/lib/python3.7/dist-packages/uArm_Python_SDK-2.0.6-py3.7.egg/uarm/comm/threaded.py:102]: send: /dev/ttyACM0, b'#561 G2202 N3 V90 F500000.0\\n'\n",
      "[VERBOSE] 2020-10-21 19:40:37 [/usr/local/lib/python3.7/dist-packages/uArm_Python_SDK-2.0.6-py3.7.egg/uarm/comm/__init__.py:38]: recv: $561 ok\n",
      "chosen: [0, 10]\n",
      "[VERBOSE] 2020-10-21 19:40:42 [/usr/local/lib/python3.7/dist-packages/uArm_Python_SDK-2.0.6-py3.7.egg/uarm/comm/threaded.py:102]: send: /dev/ttyACM0, b'#562 G2202 N0 V10 F500000.0\\n'\n",
      "[VERBOSE] 2020-10-21 19:40:42 [/usr/local/lib/python3.7/dist-packages/uArm_Python_SDK-2.0.6-py3.7.egg/uarm/comm/threaded.py:102]: send: /dev/ttyACM0, b'#563 M17\\n'\n",
      "[VERBOSE] 2020-10-21 19:40:42 [/usr/local/lib/python3.7/dist-packages/uArm_Python_SDK-2.0.6-py3.7.egg/uarm/comm/__init__.py:38]: recv: $562 ok\n",
      "[VERBOSE] 2020-10-21 19:40:43 [/usr/local/lib/python3.7/dist-packages/uArm_Python_SDK-2.0.6-py3.7.egg/uarm/comm/__init__.py:38]: recv: $563 ok\n",
      "[VERBOSE] 2020-10-21 19:40:43 [/usr/local/lib/python3.7/dist-packages/uArm_Python_SDK-2.0.6-py3.7.egg/uarm/comm/threaded.py:102]: send: /dev/ttyACM0, b'#564 G0 X200.0 Y0.0 Z150.0 F10000.0\\n'\n",
      "[VERBOSE] 2020-10-21 19:40:46 [/usr/local/lib/python3.7/dist-packages/uArm_Python_SDK-2.0.6-py3.7.egg/uarm/comm/__init__.py:38]: recv: $564 ok\n",
      "[VERBOSE] 2020-10-21 19:40:46 [/usr/local/lib/python3.7/dist-packages/uArm_Python_SDK-2.0.6-py3.7.egg/uarm/comm/threaded.py:102]: send: /dev/ttyACM0, b'#565 M2231 V0\\n'\n",
      "[VERBOSE] 2020-10-21 19:40:46 [/usr/local/lib/python3.7/dist-packages/uArm_Python_SDK-2.0.6-py3.7.egg/uarm/comm/__init__.py:38]: recv: $565 ok\n",
      "[VERBOSE] 2020-10-21 19:40:46 [/usr/local/lib/python3.7/dist-packages/uArm_Python_SDK-2.0.6-py3.7.egg/uarm/comm/threaded.py:102]: send: /dev/ttyACM0, b'#566 M2232 V0\\n'\n",
      "[VERBOSE] 2020-10-21 19:40:46 [/usr/local/lib/python3.7/dist-packages/uArm_Python_SDK-2.0.6-py3.7.egg/uarm/comm/__init__.py:38]: recv: $566 ok\n",
      "[VERBOSE] 2020-10-21 19:40:46 [/usr/local/lib/python3.7/dist-packages/uArm_Python_SDK-2.0.6-py3.7.egg/uarm/comm/threaded.py:102]: send: /dev/ttyACM0, b'#567 G2202 N3 V90 F500000.0\\n'\n",
      "[VERBOSE] 2020-10-21 19:40:46 [/usr/local/lib/python3.7/dist-packages/uArm_Python_SDK-2.0.6-py3.7.egg/uarm/comm/__init__.py:38]: recv: $567 ok\n",
      "chosen: [0, 160]\n",
      "[VERBOSE] 2020-10-21 19:40:51 [/usr/local/lib/python3.7/dist-packages/uArm_Python_SDK-2.0.6-py3.7.egg/uarm/comm/threaded.py:102]: send: /dev/ttyACM0, b'#568 G2202 N0 V160 F500000.0\\n'\n",
      "[VERBOSE] 2020-10-21 19:40:51 [/usr/local/lib/python3.7/dist-packages/uArm_Python_SDK-2.0.6-py3.7.egg/uarm/comm/threaded.py:102]: send: /dev/ttyACM0, b'#569 M17\\n'\n",
      "[VERBOSE] 2020-10-21 19:40:52 [/usr/local/lib/python3.7/dist-packages/uArm_Python_SDK-2.0.6-py3.7.egg/uarm/comm/__init__.py:38]: recv: $568 ok\n",
      "[VERBOSE] 2020-10-21 19:40:52 [/usr/local/lib/python3.7/dist-packages/uArm_Python_SDK-2.0.6-py3.7.egg/uarm/comm/__init__.py:38]: recv: $569 ok\n",
      "[VERBOSE] 2020-10-21 19:40:52 [/usr/local/lib/python3.7/dist-packages/uArm_Python_SDK-2.0.6-py3.7.egg/uarm/comm/threaded.py:102]: send: /dev/ttyACM0, b'#570 G0 X200.0 Y0.0 Z150.0 F10000.0\\n'\n",
      "[VERBOSE] 2020-10-21 19:40:55 [/usr/local/lib/python3.7/dist-packages/uArm_Python_SDK-2.0.6-py3.7.egg/uarm/comm/__init__.py:38]: recv: $570 ok\n",
      "[VERBOSE] 2020-10-21 19:40:55 [/usr/local/lib/python3.7/dist-packages/uArm_Python_SDK-2.0.6-py3.7.egg/uarm/comm/threaded.py:102]: send: /dev/ttyACM0, b'#571 M2231 V0\\n'\n",
      "[VERBOSE] 2020-10-21 19:40:55 [/usr/local/lib/python3.7/dist-packages/uArm_Python_SDK-2.0.6-py3.7.egg/uarm/comm/__init__.py:38]: recv: $571 ok\n",
      "[VERBOSE] 2020-10-21 19:40:55 [/usr/local/lib/python3.7/dist-packages/uArm_Python_SDK-2.0.6-py3.7.egg/uarm/comm/threaded.py:102]: send: /dev/ttyACM0, b'#572 M2232 V0\\n'\n",
      "[VERBOSE] 2020-10-21 19:40:55 [/usr/local/lib/python3.7/dist-packages/uArm_Python_SDK-2.0.6-py3.7.egg/uarm/comm/__init__.py:38]: recv: $572 ok\n",
      "[VERBOSE] 2020-10-21 19:40:55 [/usr/local/lib/python3.7/dist-packages/uArm_Python_SDK-2.0.6-py3.7.egg/uarm/comm/threaded.py:102]: send: /dev/ttyACM0, b'#573 G2202 N3 V90 F500000.0\\n'\n",
      "[VERBOSE] 2020-10-21 19:40:55 [/usr/local/lib/python3.7/dist-packages/uArm_Python_SDK-2.0.6-py3.7.egg/uarm/comm/__init__.py:38]: recv: $573 ok\n",
      "chosen: [0, 160]\n",
      "[VERBOSE] 2020-10-21 19:41:00 [/usr/local/lib/python3.7/dist-packages/uArm_Python_SDK-2.0.6-py3.7.egg/uarm/comm/threaded.py:102]: send: /dev/ttyACM0, b'#574 G2202 N0 V160 F500000.0\\n'\n",
      "[VERBOSE] 2020-10-21 19:41:00 [/usr/local/lib/python3.7/dist-packages/uArm_Python_SDK-2.0.6-py3.7.egg/uarm/comm/threaded.py:102]: send: /dev/ttyACM0, b'#575 M17\\n'\n",
      "[VERBOSE] 2020-10-21 19:41:00 [/usr/local/lib/python3.7/dist-packages/uArm_Python_SDK-2.0.6-py3.7.egg/uarm/comm/__init__.py:38]: recv: $574 ok\n",
      "[VERBOSE] 2020-10-21 19:41:01 [/usr/local/lib/python3.7/dist-packages/uArm_Python_SDK-2.0.6-py3.7.egg/uarm/comm/__init__.py:38]: recv: $575 ok\n",
      "[VERBOSE] 2020-10-21 19:41:01 [/usr/local/lib/python3.7/dist-packages/uArm_Python_SDK-2.0.6-py3.7.egg/uarm/comm/threaded.py:102]: send: /dev/ttyACM0, b'#576 G0 X200.0 Y0.0 Z150.0 F10000.0\\n'\n",
      "[VERBOSE] 2020-10-21 19:41:04 [/usr/local/lib/python3.7/dist-packages/uArm_Python_SDK-2.0.6-py3.7.egg/uarm/comm/__init__.py:38]: recv: $576 ok\n",
      "[VERBOSE] 2020-10-21 19:41:05 [/usr/local/lib/python3.7/dist-packages/uArm_Python_SDK-2.0.6-py3.7.egg/uarm/comm/threaded.py:102]: send: /dev/ttyACM0, b'#577 M2231 V0\\n'\n",
      "[VERBOSE] 2020-10-21 19:41:05 [/usr/local/lib/python3.7/dist-packages/uArm_Python_SDK-2.0.6-py3.7.egg/uarm/comm/__init__.py:38]: recv: $577 ok\n",
      "[VERBOSE] 2020-10-21 19:41:05 [/usr/local/lib/python3.7/dist-packages/uArm_Python_SDK-2.0.6-py3.7.egg/uarm/comm/threaded.py:102]: send: /dev/ttyACM0, b'#578 M2232 V0\\n'\n",
      "[VERBOSE] 2020-10-21 19:41:05 [/usr/local/lib/python3.7/dist-packages/uArm_Python_SDK-2.0.6-py3.7.egg/uarm/comm/__init__.py:38]: recv: $578 ok\n",
      "[VERBOSE] 2020-10-21 19:41:05 [/usr/local/lib/python3.7/dist-packages/uArm_Python_SDK-2.0.6-py3.7.egg/uarm/comm/threaded.py:102]: send: /dev/ttyACM0, b'#579 G2202 N3 V90 F500000.0\\n'\n",
      "[VERBOSE] 2020-10-21 19:41:05 [/usr/local/lib/python3.7/dist-packages/uArm_Python_SDK-2.0.6-py3.7.egg/uarm/comm/__init__.py:38]: recv: $579 ok\n",
      "chosen: [1, 160]\n",
      "[VERBOSE] 2020-10-21 19:41:10 [/usr/local/lib/python3.7/dist-packages/uArm_Python_SDK-2.0.6-py3.7.egg/uarm/comm/threaded.py:102]: send: /dev/ttyACM0, b'#580 G2202 N1 V160 F500000.0\\n'\n",
      "[VERBOSE] 2020-10-21 19:41:10 [/usr/local/lib/python3.7/dist-packages/uArm_Python_SDK-2.0.6-py3.7.egg/uarm/comm/threaded.py:102]: send: /dev/ttyACM0, b'#581 M17\\n'\n",
      "[VERBOSE] 2020-10-21 19:41:10 [/usr/local/lib/python3.7/dist-packages/uArm_Python_SDK-2.0.6-py3.7.egg/uarm/comm/__init__.py:38]: recv: $580 ok\n",
      "[VERBOSE] 2020-10-21 19:41:10 [/usr/local/lib/python3.7/dist-packages/uArm_Python_SDK-2.0.6-py3.7.egg/uarm/comm/__init__.py:38]: recv: $581 ok\n",
      "[VERBOSE] 2020-10-21 19:41:10 [/usr/local/lib/python3.7/dist-packages/uArm_Python_SDK-2.0.6-py3.7.egg/uarm/comm/threaded.py:102]: send: /dev/ttyACM0, b'#582 G0 X200.0 Y0.0 Z150.0 F10000.0\\n'\n",
      "[VERBOSE] 2020-10-21 19:41:12 [/usr/local/lib/python3.7/dist-packages/uArm_Python_SDK-2.0.6-py3.7.egg/uarm/comm/__init__.py:38]: recv: $582 ok\n",
      "[VERBOSE] 2020-10-21 19:41:12 [/usr/local/lib/python3.7/dist-packages/uArm_Python_SDK-2.0.6-py3.7.egg/uarm/comm/threaded.py:102]: send: /dev/ttyACM0, b'#583 M2231 V0\\n'\n",
      "[VERBOSE] 2020-10-21 19:41:12 [/usr/local/lib/python3.7/dist-packages/uArm_Python_SDK-2.0.6-py3.7.egg/uarm/comm/__init__.py:38]: recv: $583 ok\n",
      "[VERBOSE] 2020-10-21 19:41:12 [/usr/local/lib/python3.7/dist-packages/uArm_Python_SDK-2.0.6-py3.7.egg/uarm/comm/threaded.py:102]: send: /dev/ttyACM0, b'#584 M2232 V0\\n'\n",
      "[VERBOSE] 2020-10-21 19:41:12 [/usr/local/lib/python3.7/dist-packages/uArm_Python_SDK-2.0.6-py3.7.egg/uarm/comm/__init__.py:38]: recv: $584 ok\n",
      "[VERBOSE] 2020-10-21 19:41:12 [/usr/local/lib/python3.7/dist-packages/uArm_Python_SDK-2.0.6-py3.7.egg/uarm/comm/threaded.py:102]: send: /dev/ttyACM0, b'#585 G2202 N3 V90 F500000.0\\n'\n",
      "[VERBOSE] 2020-10-21 19:41:12 [/usr/local/lib/python3.7/dist-packages/uArm_Python_SDK-2.0.6-py3.7.egg/uarm/comm/__init__.py:38]: recv: $585 ok\n",
      "chosen: [0, 10]\n",
      "[VERBOSE] 2020-10-21 19:41:17 [/usr/local/lib/python3.7/dist-packages/uArm_Python_SDK-2.0.6-py3.7.egg/uarm/comm/threaded.py:102]: send: /dev/ttyACM0, b'#586 G2202 N0 V10 F500000.0\\n'\n",
      "[VERBOSE] 2020-10-21 19:41:17 [/usr/local/lib/python3.7/dist-packages/uArm_Python_SDK-2.0.6-py3.7.egg/uarm/comm/threaded.py:102]: send: /dev/ttyACM0, b'#587 M17\\n'\n",
      "[VERBOSE] 2020-10-21 19:41:17 [/usr/local/lib/python3.7/dist-packages/uArm_Python_SDK-2.0.6-py3.7.egg/uarm/comm/__init__.py:38]: recv: $586 ok\n",
      "[VERBOSE] 2020-10-21 19:41:19 [/usr/local/lib/python3.7/dist-packages/uArm_Python_SDK-2.0.6-py3.7.egg/uarm/comm/__init__.py:38]: recv: $587 ok\n",
      "[VERBOSE] 2020-10-21 19:41:19 [/usr/local/lib/python3.7/dist-packages/uArm_Python_SDK-2.0.6-py3.7.egg/uarm/comm/threaded.py:102]: send: /dev/ttyACM0, b'#588 G0 X200.0 Y0.0 Z150.0 F10000.0\\n'\n",
      "[VERBOSE] 2020-10-21 19:41:23 [/usr/local/lib/python3.7/dist-packages/uArm_Python_SDK-2.0.6-py3.7.egg/uarm/comm/__init__.py:38]: recv: $588 ok\n",
      "[VERBOSE] 2020-10-21 19:41:23 [/usr/local/lib/python3.7/dist-packages/uArm_Python_SDK-2.0.6-py3.7.egg/uarm/comm/threaded.py:102]: send: /dev/ttyACM0, b'#589 M2231 V0\\n'\n",
      "[VERBOSE] 2020-10-21 19:41:23 [/usr/local/lib/python3.7/dist-packages/uArm_Python_SDK-2.0.6-py3.7.egg/uarm/comm/__init__.py:38]: recv: $589 ok\n",
      "[VERBOSE] 2020-10-21 19:41:23 [/usr/local/lib/python3.7/dist-packages/uArm_Python_SDK-2.0.6-py3.7.egg/uarm/comm/threaded.py:102]: send: /dev/ttyACM0, b'#590 M2232 V0\\n'\n",
      "[VERBOSE] 2020-10-21 19:41:23 [/usr/local/lib/python3.7/dist-packages/uArm_Python_SDK-2.0.6-py3.7.egg/uarm/comm/__init__.py:38]: recv: $590 ok\n",
      "[VERBOSE] 2020-10-21 19:41:23 [/usr/local/lib/python3.7/dist-packages/uArm_Python_SDK-2.0.6-py3.7.egg/uarm/comm/threaded.py:102]: send: /dev/ttyACM0, b'#591 G2202 N3 V90 F500000.0\\n'\n",
      "[VERBOSE] 2020-10-21 19:41:23 [/usr/local/lib/python3.7/dist-packages/uArm_Python_SDK-2.0.6-py3.7.egg/uarm/comm/__init__.py:38]: recv: $591 ok\n",
      "chosen: [0, 45]\n",
      "[VERBOSE] 2020-10-21 19:41:28 [/usr/local/lib/python3.7/dist-packages/uArm_Python_SDK-2.0.6-py3.7.egg/uarm/comm/threaded.py:102]: send: /dev/ttyACM0, b'#592 G2202 N0 V45 F500000.0\\n'\n",
      "[VERBOSE] 2020-10-21 19:41:28 [/usr/local/lib/python3.7/dist-packages/uArm_Python_SDK-2.0.6-py3.7.egg/uarm/comm/threaded.py:102]: send: /dev/ttyACM0, b'#593 M17\\n'\n",
      "[VERBOSE] 2020-10-21 19:41:28 [/usr/local/lib/python3.7/dist-packages/uArm_Python_SDK-2.0.6-py3.7.egg/uarm/comm/__init__.py:38]: recv: $592 ok\n",
      "[VERBOSE] 2020-10-21 19:41:29 [/usr/local/lib/python3.7/dist-packages/uArm_Python_SDK-2.0.6-py3.7.egg/uarm/comm/__init__.py:38]: recv: $593 ok\n",
      "[VERBOSE] 2020-10-21 19:41:29 [/usr/local/lib/python3.7/dist-packages/uArm_Python_SDK-2.0.6-py3.7.egg/uarm/comm/threaded.py:102]: send: /dev/ttyACM0, b'#594 G0 X200.0 Y0.0 Z150.0 F10000.0\\n'\n",
      "[VERBOSE] 2020-10-21 19:41:31 [/usr/local/lib/python3.7/dist-packages/uArm_Python_SDK-2.0.6-py3.7.egg/uarm/comm/__init__.py:38]: recv: $594 ok\n",
      "[VERBOSE] 2020-10-21 19:41:31 [/usr/local/lib/python3.7/dist-packages/uArm_Python_SDK-2.0.6-py3.7.egg/uarm/comm/threaded.py:102]: send: /dev/ttyACM0, b'#595 M2231 V0\\n'\n",
      "[VERBOSE] 2020-10-21 19:41:32 [/usr/local/lib/python3.7/dist-packages/uArm_Python_SDK-2.0.6-py3.7.egg/uarm/comm/__init__.py:38]: recv: $595 ok\n",
      "[VERBOSE] 2020-10-21 19:41:32 [/usr/local/lib/python3.7/dist-packages/uArm_Python_SDK-2.0.6-py3.7.egg/uarm/comm/threaded.py:102]: send: /dev/ttyACM0, b'#596 M2232 V0\\n'\n",
      "[VERBOSE] 2020-10-21 19:41:32 [/usr/local/lib/python3.7/dist-packages/uArm_Python_SDK-2.0.6-py3.7.egg/uarm/comm/__init__.py:38]: recv: $596 ok\n",
      "[VERBOSE] 2020-10-21 19:41:32 [/usr/local/lib/python3.7/dist-packages/uArm_Python_SDK-2.0.6-py3.7.egg/uarm/comm/threaded.py:102]: send: /dev/ttyACM0, b'#597 G2202 N3 V90 F500000.0\\n'\n",
      "[VERBOSE] 2020-10-21 19:41:32 [/usr/local/lib/python3.7/dist-packages/uArm_Python_SDK-2.0.6-py3.7.egg/uarm/comm/__init__.py:38]: recv: $597 ok\n",
      "chosen: [1, 160]\n",
      "[VERBOSE] 2020-10-21 19:41:37 [/usr/local/lib/python3.7/dist-packages/uArm_Python_SDK-2.0.6-py3.7.egg/uarm/comm/threaded.py:102]: send: /dev/ttyACM0, b'#598 G2202 N1 V160 F500000.0\\n'\n",
      "[VERBOSE] 2020-10-21 19:41:37 [/usr/local/lib/python3.7/dist-packages/uArm_Python_SDK-2.0.6-py3.7.egg/uarm/comm/threaded.py:102]: send: /dev/ttyACM0, b'#599 M17\\n'\n",
      "[VERBOSE] 2020-10-21 19:41:37 [/usr/local/lib/python3.7/dist-packages/uArm_Python_SDK-2.0.6-py3.7.egg/uarm/comm/__init__.py:38]: recv: $598 ok\n",
      "[VERBOSE] 2020-10-21 19:41:37 [/usr/local/lib/python3.7/dist-packages/uArm_Python_SDK-2.0.6-py3.7.egg/uarm/comm/__init__.py:38]: recv: $599 ok\n",
      "[VERBOSE] 2020-10-21 19:41:37 [/usr/local/lib/python3.7/dist-packages/uArm_Python_SDK-2.0.6-py3.7.egg/uarm/comm/threaded.py:102]: send: /dev/ttyACM0, b'#600 G0 X200.0 Y0.0 Z150.0 F10000.0\\n'\n",
      "[VERBOSE] 2020-10-21 19:41:39 [/usr/local/lib/python3.7/dist-packages/uArm_Python_SDK-2.0.6-py3.7.egg/uarm/comm/__init__.py:38]: recv: $600 ok\n",
      "[VERBOSE] 2020-10-21 19:41:39 [/usr/local/lib/python3.7/dist-packages/uArm_Python_SDK-2.0.6-py3.7.egg/uarm/comm/threaded.py:102]: send: /dev/ttyACM0, b'#601 M2231 V0\\n'\n",
      "[VERBOSE] 2020-10-21 19:41:39 [/usr/local/lib/python3.7/dist-packages/uArm_Python_SDK-2.0.6-py3.7.egg/uarm/comm/__init__.py:38]: recv: $601 ok\n",
      "[VERBOSE] 2020-10-21 19:41:39 [/usr/local/lib/python3.7/dist-packages/uArm_Python_SDK-2.0.6-py3.7.egg/uarm/comm/threaded.py:102]: send: /dev/ttyACM0, b'#602 M2232 V0\\n'\n",
      "[VERBOSE] 2020-10-21 19:41:39 [/usr/local/lib/python3.7/dist-packages/uArm_Python_SDK-2.0.6-py3.7.egg/uarm/comm/__init__.py:38]: recv: $602 ok\n",
      "[VERBOSE] 2020-10-21 19:41:39 [/usr/local/lib/python3.7/dist-packages/uArm_Python_SDK-2.0.6-py3.7.egg/uarm/comm/threaded.py:102]: send: /dev/ttyACM0, b'#603 G2202 N3 V90 F500000.0\\n'\n",
      "[VERBOSE] 2020-10-21 19:41:39 [/usr/local/lib/python3.7/dist-packages/uArm_Python_SDK-2.0.6-py3.7.egg/uarm/comm/__init__.py:38]: recv: $603 ok\n",
      "chosen: [1, 45]\n",
      "[VERBOSE] 2020-10-21 19:41:44 [/usr/local/lib/python3.7/dist-packages/uArm_Python_SDK-2.0.6-py3.7.egg/uarm/comm/threaded.py:102]: send: /dev/ttyACM0, b'#604 G2202 N1 V45 F500000.0\\n'\n",
      "[VERBOSE] 2020-10-21 19:41:44 [/usr/local/lib/python3.7/dist-packages/uArm_Python_SDK-2.0.6-py3.7.egg/uarm/comm/threaded.py:102]: send: /dev/ttyACM0, b'#605 M17\\n'\n",
      "[VERBOSE] 2020-10-21 19:41:44 [/usr/local/lib/python3.7/dist-packages/uArm_Python_SDK-2.0.6-py3.7.egg/uarm/comm/__init__.py:38]: recv: $604 ok\n",
      "[VERBOSE] 2020-10-21 19:41:45 [/usr/local/lib/python3.7/dist-packages/uArm_Python_SDK-2.0.6-py3.7.egg/uarm/comm/__init__.py:38]: recv: $605 ok\n",
      "[VERBOSE] 2020-10-21 19:41:46 [/usr/local/lib/python3.7/dist-packages/uArm_Python_SDK-2.0.6-py3.7.egg/uarm/comm/threaded.py:102]: send: /dev/ttyACM0, b'#606 G0 X200.0 Y0.0 Z150.0 F10000.0\\n'\n",
      "[VERBOSE] 2020-10-21 19:41:48 [/usr/local/lib/python3.7/dist-packages/uArm_Python_SDK-2.0.6-py3.7.egg/uarm/comm/__init__.py:38]: recv: $606 ok\n",
      "[VERBOSE] 2020-10-21 19:41:48 [/usr/local/lib/python3.7/dist-packages/uArm_Python_SDK-2.0.6-py3.7.egg/uarm/comm/threaded.py:102]: send: /dev/ttyACM0, b'#607 M2231 V0\\n'\n",
      "[VERBOSE] 2020-10-21 19:41:48 [/usr/local/lib/python3.7/dist-packages/uArm_Python_SDK-2.0.6-py3.7.egg/uarm/comm/__init__.py:38]: recv: $607 ok\n",
      "[VERBOSE] 2020-10-21 19:41:48 [/usr/local/lib/python3.7/dist-packages/uArm_Python_SDK-2.0.6-py3.7.egg/uarm/comm/threaded.py:102]: send: /dev/ttyACM0, b'#608 M2232 V0\\n'\n",
      "[VERBOSE] 2020-10-21 19:41:48 [/usr/local/lib/python3.7/dist-packages/uArm_Python_SDK-2.0.6-py3.7.egg/uarm/comm/__init__.py:38]: recv: $608 ok\n",
      "[VERBOSE] 2020-10-21 19:41:48 [/usr/local/lib/python3.7/dist-packages/uArm_Python_SDK-2.0.6-py3.7.egg/uarm/comm/threaded.py:102]: send: /dev/ttyACM0, b'#609 G2202 N3 V90 F500000.0\\n'\n",
      "[VERBOSE] 2020-10-21 19:41:48 [/usr/local/lib/python3.7/dist-packages/uArm_Python_SDK-2.0.6-py3.7.egg/uarm/comm/__init__.py:38]: recv: $609 ok\n",
      "chosen: [1, 90]\n",
      "[VERBOSE] 2020-10-21 19:41:53 [/usr/local/lib/python3.7/dist-packages/uArm_Python_SDK-2.0.6-py3.7.egg/uarm/comm/threaded.py:102]: send: /dev/ttyACM0, b'#610 G2202 N1 V90 F500000.0\\n'\n",
      "[VERBOSE] 2020-10-21 19:41:53 [/usr/local/lib/python3.7/dist-packages/uArm_Python_SDK-2.0.6-py3.7.egg/uarm/comm/threaded.py:102]: send: /dev/ttyACM0, b'#611 M17\\n'\n",
      "[VERBOSE] 2020-10-21 19:41:53 [/usr/local/lib/python3.7/dist-packages/uArm_Python_SDK-2.0.6-py3.7.egg/uarm/comm/__init__.py:38]: recv: $610 ok\n",
      "[VERBOSE] 2020-10-21 19:41:54 [/usr/local/lib/python3.7/dist-packages/uArm_Python_SDK-2.0.6-py3.7.egg/uarm/comm/__init__.py:38]: recv: $611 ok\n",
      "[VERBOSE] 2020-10-21 19:41:54 [/usr/local/lib/python3.7/dist-packages/uArm_Python_SDK-2.0.6-py3.7.egg/uarm/comm/threaded.py:102]: send: /dev/ttyACM0, b'#612 G0 X200.0 Y0.0 Z150.0 F10000.0\\n'\n",
      "[VERBOSE] 2020-10-21 19:41:54 [/usr/local/lib/python3.7/dist-packages/uArm_Python_SDK-2.0.6-py3.7.egg/uarm/comm/__init__.py:38]: recv: $612 ok\n",
      "[VERBOSE] 2020-10-21 19:41:55 [/usr/local/lib/python3.7/dist-packages/uArm_Python_SDK-2.0.6-py3.7.egg/uarm/comm/threaded.py:102]: send: /dev/ttyACM0, b'#613 M2231 V0\\n'\n",
      "[VERBOSE] 2020-10-21 19:41:55 [/usr/local/lib/python3.7/dist-packages/uArm_Python_SDK-2.0.6-py3.7.egg/uarm/comm/__init__.py:38]: recv: $613 ok\n",
      "[VERBOSE] 2020-10-21 19:41:55 [/usr/local/lib/python3.7/dist-packages/uArm_Python_SDK-2.0.6-py3.7.egg/uarm/comm/threaded.py:102]: send: /dev/ttyACM0, b'#614 M2232 V0\\n'\n",
      "[VERBOSE] 2020-10-21 19:41:55 [/usr/local/lib/python3.7/dist-packages/uArm_Python_SDK-2.0.6-py3.7.egg/uarm/comm/__init__.py:38]: recv: $614 ok\n",
      "[VERBOSE] 2020-10-21 19:41:55 [/usr/local/lib/python3.7/dist-packages/uArm_Python_SDK-2.0.6-py3.7.egg/uarm/comm/threaded.py:102]: send: /dev/ttyACM0, b'#615 G2202 N3 V90 F500000.0\\n'\n",
      "[VERBOSE] 2020-10-21 19:41:55 [/usr/local/lib/python3.7/dist-packages/uArm_Python_SDK-2.0.6-py3.7.egg/uarm/comm/__init__.py:38]: recv: $615 ok\n",
      "chosen: [0, 90]\n",
      "[VERBOSE] 2020-10-21 19:42:00 [/usr/local/lib/python3.7/dist-packages/uArm_Python_SDK-2.0.6-py3.7.egg/uarm/comm/threaded.py:102]: send: /dev/ttyACM0, b'#616 G2202 N0 V90 F500000.0\\n'\n",
      "[VERBOSE] 2020-10-21 19:42:00 [/usr/local/lib/python3.7/dist-packages/uArm_Python_SDK-2.0.6-py3.7.egg/uarm/comm/threaded.py:102]: send: /dev/ttyACM0, b'#617 M17\\n'\n",
      "[VERBOSE] 2020-10-21 19:42:00 [/usr/local/lib/python3.7/dist-packages/uArm_Python_SDK-2.0.6-py3.7.egg/uarm/comm/__init__.py:38]: recv: $616 ok\n",
      "[VERBOSE] 2020-10-21 19:42:01 [/usr/local/lib/python3.7/dist-packages/uArm_Python_SDK-2.0.6-py3.7.egg/uarm/comm/__init__.py:38]: recv: $617 ok\n",
      "[VERBOSE] 2020-10-21 19:42:01 [/usr/local/lib/python3.7/dist-packages/uArm_Python_SDK-2.0.6-py3.7.egg/uarm/comm/threaded.py:102]: send: /dev/ttyACM0, b'#618 G0 X200.0 Y0.0 Z150.0 F10000.0\\n'\n",
      "[VERBOSE] 2020-10-21 19:42:01 [/usr/local/lib/python3.7/dist-packages/uArm_Python_SDK-2.0.6-py3.7.egg/uarm/comm/__init__.py:38]: recv: $618 ok\n",
      "[VERBOSE] 2020-10-21 19:42:01 [/usr/local/lib/python3.7/dist-packages/uArm_Python_SDK-2.0.6-py3.7.egg/uarm/comm/threaded.py:102]: send: /dev/ttyACM0, b'#619 M2231 V0\\n'\n",
      "[VERBOSE] 2020-10-21 19:42:01 [/usr/local/lib/python3.7/dist-packages/uArm_Python_SDK-2.0.6-py3.7.egg/uarm/comm/__init__.py:38]: recv: $619 ok\n",
      "[VERBOSE] 2020-10-21 19:42:01 [/usr/local/lib/python3.7/dist-packages/uArm_Python_SDK-2.0.6-py3.7.egg/uarm/comm/threaded.py:102]: send: /dev/ttyACM0, b'#620 M2232 V0\\n'\n",
      "[VERBOSE] 2020-10-21 19:42:01 [/usr/local/lib/python3.7/dist-packages/uArm_Python_SDK-2.0.6-py3.7.egg/uarm/comm/__init__.py:38]: recv: $620 ok\n",
      "[VERBOSE] 2020-10-21 19:42:01 [/usr/local/lib/python3.7/dist-packages/uArm_Python_SDK-2.0.6-py3.7.egg/uarm/comm/threaded.py:102]: send: /dev/ttyACM0, b'#621 G2202 N3 V90 F500000.0\\n'\n",
      "[VERBOSE] 2020-10-21 19:42:01 [/usr/local/lib/python3.7/dist-packages/uArm_Python_SDK-2.0.6-py3.7.egg/uarm/comm/__init__.py:38]: recv: $621 ok\n",
      "chosen: [1, 135]\n",
      "[VERBOSE] 2020-10-21 19:42:06 [/usr/local/lib/python3.7/dist-packages/uArm_Python_SDK-2.0.6-py3.7.egg/uarm/comm/threaded.py:102]: send: /dev/ttyACM0, b'#622 G2202 N1 V135 F500000.0\\n'\n",
      "[VERBOSE] 2020-10-21 19:42:06 [/usr/local/lib/python3.7/dist-packages/uArm_Python_SDK-2.0.6-py3.7.egg/uarm/comm/threaded.py:102]: send: /dev/ttyACM0, b'#623 M17\\n'\n",
      "[VERBOSE] 2020-10-21 19:42:06 [/usr/local/lib/python3.7/dist-packages/uArm_Python_SDK-2.0.6-py3.7.egg/uarm/comm/__init__.py:38]: recv: $622 ok\n",
      "[VERBOSE] 2020-10-21 19:42:07 [/usr/local/lib/python3.7/dist-packages/uArm_Python_SDK-2.0.6-py3.7.egg/uarm/comm/__init__.py:38]: recv: $623 ok\n",
      "[VERBOSE] 2020-10-21 19:42:07 [/usr/local/lib/python3.7/dist-packages/uArm_Python_SDK-2.0.6-py3.7.egg/uarm/comm/threaded.py:102]: send: /dev/ttyACM0, b'#624 G0 X200.0 Y0.0 Z150.0 F10000.0\\n'\n",
      "[VERBOSE] 2020-10-21 19:42:09 [/usr/local/lib/python3.7/dist-packages/uArm_Python_SDK-2.0.6-py3.7.egg/uarm/comm/__init__.py:38]: recv: $624 ok\n",
      "[VERBOSE] 2020-10-21 19:42:09 [/usr/local/lib/python3.7/dist-packages/uArm_Python_SDK-2.0.6-py3.7.egg/uarm/comm/threaded.py:102]: send: /dev/ttyACM0, b'#625 M2231 V0\\n'\n",
      "[VERBOSE] 2020-10-21 19:42:09 [/usr/local/lib/python3.7/dist-packages/uArm_Python_SDK-2.0.6-py3.7.egg/uarm/comm/__init__.py:38]: recv: $625 ok\n",
      "[VERBOSE] 2020-10-21 19:42:09 [/usr/local/lib/python3.7/dist-packages/uArm_Python_SDK-2.0.6-py3.7.egg/uarm/comm/threaded.py:102]: send: /dev/ttyACM0, b'#626 M2232 V0\\n'\n",
      "[VERBOSE] 2020-10-21 19:42:09 [/usr/local/lib/python3.7/dist-packages/uArm_Python_SDK-2.0.6-py3.7.egg/uarm/comm/__init__.py:38]: recv: $626 ok\n",
      "[VERBOSE] 2020-10-21 19:42:09 [/usr/local/lib/python3.7/dist-packages/uArm_Python_SDK-2.0.6-py3.7.egg/uarm/comm/threaded.py:102]: send: /dev/ttyACM0, b'#627 G2202 N3 V90 F500000.0\\n'\n",
      "[VERBOSE] 2020-10-21 19:42:09 [/usr/local/lib/python3.7/dist-packages/uArm_Python_SDK-2.0.6-py3.7.egg/uarm/comm/__init__.py:38]: recv: $627 ok\n",
      "chosen: [0, 135]\n",
      "[VERBOSE] 2020-10-21 19:42:14 [/usr/local/lib/python3.7/dist-packages/uArm_Python_SDK-2.0.6-py3.7.egg/uarm/comm/threaded.py:102]: send: /dev/ttyACM0, b'#628 G2202 N0 V135 F500000.0\\n'\n",
      "[VERBOSE] 2020-10-21 19:42:14 [/usr/local/lib/python3.7/dist-packages/uArm_Python_SDK-2.0.6-py3.7.egg/uarm/comm/threaded.py:102]: send: /dev/ttyACM0, b'#629 M17\\n'\n",
      "[VERBOSE] 2020-10-21 19:42:14 [/usr/local/lib/python3.7/dist-packages/uArm_Python_SDK-2.0.6-py3.7.egg/uarm/comm/__init__.py:38]: recv: $628 ok\n",
      "[VERBOSE] 2020-10-21 19:42:15 [/usr/local/lib/python3.7/dist-packages/uArm_Python_SDK-2.0.6-py3.7.egg/uarm/comm/__init__.py:38]: recv: $629 ok\n",
      "[VERBOSE] 2020-10-21 19:42:15 [/usr/local/lib/python3.7/dist-packages/uArm_Python_SDK-2.0.6-py3.7.egg/uarm/comm/threaded.py:102]: send: /dev/ttyACM0, b'#630 G0 X200.0 Y0.0 Z150.0 F10000.0\\n'\n",
      "[VERBOSE] 2020-10-21 19:42:17 [/usr/local/lib/python3.7/dist-packages/uArm_Python_SDK-2.0.6-py3.7.egg/uarm/comm/__init__.py:38]: recv: $630 ok\n",
      "[VERBOSE] 2020-10-21 19:42:17 [/usr/local/lib/python3.7/dist-packages/uArm_Python_SDK-2.0.6-py3.7.egg/uarm/comm/threaded.py:102]: send: /dev/ttyACM0, b'#631 M2231 V0\\n'\n",
      "[VERBOSE] 2020-10-21 19:42:17 [/usr/local/lib/python3.7/dist-packages/uArm_Python_SDK-2.0.6-py3.7.egg/uarm/comm/__init__.py:38]: recv: $631 ok\n",
      "[VERBOSE] 2020-10-21 19:42:17 [/usr/local/lib/python3.7/dist-packages/uArm_Python_SDK-2.0.6-py3.7.egg/uarm/comm/threaded.py:102]: send: /dev/ttyACM0, b'#632 M2232 V0\\n'\n",
      "[VERBOSE] 2020-10-21 19:42:17 [/usr/local/lib/python3.7/dist-packages/uArm_Python_SDK-2.0.6-py3.7.egg/uarm/comm/__init__.py:38]: recv: $632 ok\n",
      "[VERBOSE] 2020-10-21 19:42:17 [/usr/local/lib/python3.7/dist-packages/uArm_Python_SDK-2.0.6-py3.7.egg/uarm/comm/threaded.py:102]: send: /dev/ttyACM0, b'#633 G2202 N3 V90 F500000.0\\n'\n",
      "[VERBOSE] 2020-10-21 19:42:17 [/usr/local/lib/python3.7/dist-packages/uArm_Python_SDK-2.0.6-py3.7.egg/uarm/comm/__init__.py:38]: recv: $633 ok\n",
      "chosen: [1, 135]\n",
      "[VERBOSE] 2020-10-21 19:42:22 [/usr/local/lib/python3.7/dist-packages/uArm_Python_SDK-2.0.6-py3.7.egg/uarm/comm/threaded.py:102]: send: /dev/ttyACM0, b'#634 G2202 N1 V135 F500000.0\\n'\n",
      "[VERBOSE] 2020-10-21 19:42:22 [/usr/local/lib/python3.7/dist-packages/uArm_Python_SDK-2.0.6-py3.7.egg/uarm/comm/threaded.py:102]: send: /dev/ttyACM0, b'#635 M17\\n'\n",
      "[VERBOSE] 2020-10-21 19:42:22 [/usr/local/lib/python3.7/dist-packages/uArm_Python_SDK-2.0.6-py3.7.egg/uarm/comm/__init__.py:38]: recv: $634 ok\n",
      "[VERBOSE] 2020-10-21 19:42:23 [/usr/local/lib/python3.7/dist-packages/uArm_Python_SDK-2.0.6-py3.7.egg/uarm/comm/__init__.py:38]: recv: $635 ok\n",
      "[VERBOSE] 2020-10-21 19:42:23 [/usr/local/lib/python3.7/dist-packages/uArm_Python_SDK-2.0.6-py3.7.egg/uarm/comm/threaded.py:102]: send: /dev/ttyACM0, b'#636 G0 X200.0 Y0.0 Z150.0 F10000.0\\n'\n",
      "[VERBOSE] 2020-10-21 19:42:25 [/usr/local/lib/python3.7/dist-packages/uArm_Python_SDK-2.0.6-py3.7.egg/uarm/comm/__init__.py:38]: recv: $636 ok\n",
      "[VERBOSE] 2020-10-21 19:42:25 [/usr/local/lib/python3.7/dist-packages/uArm_Python_SDK-2.0.6-py3.7.egg/uarm/comm/threaded.py:102]: send: /dev/ttyACM0, b'#637 M2231 V0\\n'\n",
      "[VERBOSE] 2020-10-21 19:42:25 [/usr/local/lib/python3.7/dist-packages/uArm_Python_SDK-2.0.6-py3.7.egg/uarm/comm/__init__.py:38]: recv: $637 ok\n",
      "[VERBOSE] 2020-10-21 19:42:25 [/usr/local/lib/python3.7/dist-packages/uArm_Python_SDK-2.0.6-py3.7.egg/uarm/comm/threaded.py:102]: send: /dev/ttyACM0, b'#638 M2232 V0\\n'\n",
      "[VERBOSE] 2020-10-21 19:42:25 [/usr/local/lib/python3.7/dist-packages/uArm_Python_SDK-2.0.6-py3.7.egg/uarm/comm/__init__.py:38]: recv: $638 ok\n",
      "[VERBOSE] 2020-10-21 19:42:25 [/usr/local/lib/python3.7/dist-packages/uArm_Python_SDK-2.0.6-py3.7.egg/uarm/comm/threaded.py:102]: send: /dev/ttyACM0, b'#639 G2202 N3 V90 F500000.0\\n'\n",
      "[VERBOSE] 2020-10-21 19:42:25 [/usr/local/lib/python3.7/dist-packages/uArm_Python_SDK-2.0.6-py3.7.egg/uarm/comm/__init__.py:38]: recv: $639 ok\n",
      "chosen: [0, 135]\n",
      "[VERBOSE] 2020-10-21 19:42:30 [/usr/local/lib/python3.7/dist-packages/uArm_Python_SDK-2.0.6-py3.7.egg/uarm/comm/threaded.py:102]: send: /dev/ttyACM0, b'#640 G2202 N0 V135 F500000.0\\n'\n",
      "[VERBOSE] 2020-10-21 19:42:30 [/usr/local/lib/python3.7/dist-packages/uArm_Python_SDK-2.0.6-py3.7.egg/uarm/comm/threaded.py:102]: send: /dev/ttyACM0, b'#641 M17\\n'\n",
      "[VERBOSE] 2020-10-21 19:42:30 [/usr/local/lib/python3.7/dist-packages/uArm_Python_SDK-2.0.6-py3.7.egg/uarm/comm/__init__.py:38]: recv: $640 ok\n",
      "[VERBOSE] 2020-10-21 19:42:31 [/usr/local/lib/python3.7/dist-packages/uArm_Python_SDK-2.0.6-py3.7.egg/uarm/comm/__init__.py:38]: recv: $641 ok\n",
      "[VERBOSE] 2020-10-21 19:42:31 [/usr/local/lib/python3.7/dist-packages/uArm_Python_SDK-2.0.6-py3.7.egg/uarm/comm/threaded.py:102]: send: /dev/ttyACM0, b'#642 G0 X200.0 Y0.0 Z150.0 F10000.0\\n'\n",
      "[VERBOSE] 2020-10-21 19:42:35 [/usr/local/lib/python3.7/dist-packages/uArm_Python_SDK-2.0.6-py3.7.egg/uarm/comm/__init__.py:38]: recv: $642 ok\n",
      "[VERBOSE] 2020-10-21 19:42:35 [/usr/local/lib/python3.7/dist-packages/uArm_Python_SDK-2.0.6-py3.7.egg/uarm/comm/threaded.py:102]: send: /dev/ttyACM0, b'#643 M2231 V0\\n'\n",
      "[VERBOSE] 2020-10-21 19:42:35 [/usr/local/lib/python3.7/dist-packages/uArm_Python_SDK-2.0.6-py3.7.egg/uarm/comm/__init__.py:38]: recv: $643 ok\n",
      "[VERBOSE] 2020-10-21 19:42:35 [/usr/local/lib/python3.7/dist-packages/uArm_Python_SDK-2.0.6-py3.7.egg/uarm/comm/threaded.py:102]: send: /dev/ttyACM0, b'#644 M2232 V0\\n'\n",
      "[VERBOSE] 2020-10-21 19:42:35 [/usr/local/lib/python3.7/dist-packages/uArm_Python_SDK-2.0.6-py3.7.egg/uarm/comm/__init__.py:38]: recv: $644 ok\n",
      "[VERBOSE] 2020-10-21 19:42:35 [/usr/local/lib/python3.7/dist-packages/uArm_Python_SDK-2.0.6-py3.7.egg/uarm/comm/threaded.py:102]: send: /dev/ttyACM0, b'#645 G2202 N3 V90 F500000.0\\n'\n",
      "[VERBOSE] 2020-10-21 19:42:35 [/usr/local/lib/python3.7/dist-packages/uArm_Python_SDK-2.0.6-py3.7.egg/uarm/comm/__init__.py:38]: recv: $645 ok\n",
      "chosen: [0, 10]\n",
      "[VERBOSE] 2020-10-21 19:42:40 [/usr/local/lib/python3.7/dist-packages/uArm_Python_SDK-2.0.6-py3.7.egg/uarm/comm/threaded.py:102]: send: /dev/ttyACM0, b'#646 G2202 N0 V10 F500000.0\\n'\n",
      "[VERBOSE] 2020-10-21 19:42:40 [/usr/local/lib/python3.7/dist-packages/uArm_Python_SDK-2.0.6-py3.7.egg/uarm/comm/threaded.py:102]: send: /dev/ttyACM0, b'#647 M17\\n'\n",
      "[VERBOSE] 2020-10-21 19:42:40 [/usr/local/lib/python3.7/dist-packages/uArm_Python_SDK-2.0.6-py3.7.egg/uarm/comm/__init__.py:38]: recv: $646 ok\n",
      "[VERBOSE] 2020-10-21 19:42:41 [/usr/local/lib/python3.7/dist-packages/uArm_Python_SDK-2.0.6-py3.7.egg/uarm/comm/__init__.py:38]: recv: $647 ok\n",
      "[VERBOSE] 2020-10-21 19:42:41 [/usr/local/lib/python3.7/dist-packages/uArm_Python_SDK-2.0.6-py3.7.egg/uarm/comm/threaded.py:102]: send: /dev/ttyACM0, b'#648 G0 X200.0 Y0.0 Z150.0 F10000.0\\n'\n",
      "[VERBOSE] 2020-10-21 19:42:44 [/usr/local/lib/python3.7/dist-packages/uArm_Python_SDK-2.0.6-py3.7.egg/uarm/comm/__init__.py:38]: recv: $648 ok\n",
      "[VERBOSE] 2020-10-21 19:42:44 [/usr/local/lib/python3.7/dist-packages/uArm_Python_SDK-2.0.6-py3.7.egg/uarm/comm/threaded.py:102]: send: /dev/ttyACM0, b'#649 M2231 V0\\n'\n",
      "[VERBOSE] 2020-10-21 19:42:44 [/usr/local/lib/python3.7/dist-packages/uArm_Python_SDK-2.0.6-py3.7.egg/uarm/comm/__init__.py:38]: recv: $649 ok\n",
      "[VERBOSE] 2020-10-21 19:42:44 [/usr/local/lib/python3.7/dist-packages/uArm_Python_SDK-2.0.6-py3.7.egg/uarm/comm/threaded.py:102]: send: /dev/ttyACM0, b'#650 M2232 V0\\n'\n",
      "[VERBOSE] 2020-10-21 19:42:44 [/usr/local/lib/python3.7/dist-packages/uArm_Python_SDK-2.0.6-py3.7.egg/uarm/comm/__init__.py:38]: recv: $650 ok\n",
      "[VERBOSE] 2020-10-21 19:42:44 [/usr/local/lib/python3.7/dist-packages/uArm_Python_SDK-2.0.6-py3.7.egg/uarm/comm/threaded.py:102]: send: /dev/ttyACM0, b'#651 G2202 N3 V90 F500000.0\\n'\n",
      "[VERBOSE] 2020-10-21 19:42:44 [/usr/local/lib/python3.7/dist-packages/uArm_Python_SDK-2.0.6-py3.7.egg/uarm/comm/__init__.py:38]: recv: $651 ok\n",
      "chosen: [0, 160]\n",
      "[VERBOSE] 2020-10-21 19:42:49 [/usr/local/lib/python3.7/dist-packages/uArm_Python_SDK-2.0.6-py3.7.egg/uarm/comm/threaded.py:102]: send: /dev/ttyACM0, b'#652 G2202 N0 V160 F500000.0\\n'\n",
      "[VERBOSE] 2020-10-21 19:42:49 [/usr/local/lib/python3.7/dist-packages/uArm_Python_SDK-2.0.6-py3.7.egg/uarm/comm/threaded.py:102]: send: /dev/ttyACM0, b'#653 M17\\n'\n",
      "[VERBOSE] 2020-10-21 19:42:49 [/usr/local/lib/python3.7/dist-packages/uArm_Python_SDK-2.0.6-py3.7.egg/uarm/comm/__init__.py:38]: recv: $652 ok\n",
      "[VERBOSE] 2020-10-21 19:42:50 [/usr/local/lib/python3.7/dist-packages/uArm_Python_SDK-2.0.6-py3.7.egg/uarm/comm/__init__.py:38]: recv: $653 ok\n",
      "[VERBOSE] 2020-10-21 19:42:50 [/usr/local/lib/python3.7/dist-packages/uArm_Python_SDK-2.0.6-py3.7.egg/uarm/comm/threaded.py:102]: send: /dev/ttyACM0, b'#654 G0 X200.0 Y0.0 Z150.0 F10000.0\\n'\n",
      "[VERBOSE] 2020-10-21 19:42:53 [/usr/local/lib/python3.7/dist-packages/uArm_Python_SDK-2.0.6-py3.7.egg/uarm/comm/__init__.py:38]: recv: $654 ok\n",
      "[VERBOSE] 2020-10-21 19:42:53 [/usr/local/lib/python3.7/dist-packages/uArm_Python_SDK-2.0.6-py3.7.egg/uarm/comm/threaded.py:102]: send: /dev/ttyACM0, b'#655 M2231 V0\\n'\n",
      "[VERBOSE] 2020-10-21 19:42:53 [/usr/local/lib/python3.7/dist-packages/uArm_Python_SDK-2.0.6-py3.7.egg/uarm/comm/__init__.py:38]: recv: $655 ok\n",
      "[VERBOSE] 2020-10-21 19:42:53 [/usr/local/lib/python3.7/dist-packages/uArm_Python_SDK-2.0.6-py3.7.egg/uarm/comm/threaded.py:102]: send: /dev/ttyACM0, b'#656 M2232 V0\\n'\n",
      "[VERBOSE] 2020-10-21 19:42:53 [/usr/local/lib/python3.7/dist-packages/uArm_Python_SDK-2.0.6-py3.7.egg/uarm/comm/__init__.py:38]: recv: $656 ok\n",
      "[VERBOSE] 2020-10-21 19:42:53 [/usr/local/lib/python3.7/dist-packages/uArm_Python_SDK-2.0.6-py3.7.egg/uarm/comm/threaded.py:102]: send: /dev/ttyACM0, b'#657 G2202 N3 V90 F500000.0\\n'\n",
      "[VERBOSE] 2020-10-21 19:42:53 [/usr/local/lib/python3.7/dist-packages/uArm_Python_SDK-2.0.6-py3.7.egg/uarm/comm/__init__.py:38]: recv: $657 ok\n",
      "chosen: [1, 160]\n",
      "[VERBOSE] 2020-10-21 19:42:58 [/usr/local/lib/python3.7/dist-packages/uArm_Python_SDK-2.0.6-py3.7.egg/uarm/comm/threaded.py:102]: send: /dev/ttyACM0, b'#658 G2202 N1 V160 F500000.0\\n'\n",
      "[VERBOSE] 2020-10-21 19:42:58 [/usr/local/lib/python3.7/dist-packages/uArm_Python_SDK-2.0.6-py3.7.egg/uarm/comm/threaded.py:102]: send: /dev/ttyACM0, b'#659 M17\\n'\n",
      "[VERBOSE] 2020-10-21 19:42:58 [/usr/local/lib/python3.7/dist-packages/uArm_Python_SDK-2.0.6-py3.7.egg/uarm/comm/__init__.py:38]: recv: $658 ok\n",
      "[VERBOSE] 2020-10-21 19:42:58 [/usr/local/lib/python3.7/dist-packages/uArm_Python_SDK-2.0.6-py3.7.egg/uarm/comm/__init__.py:38]: recv: $659 ok\n",
      "[VERBOSE] 2020-10-21 19:42:58 [/usr/local/lib/python3.7/dist-packages/uArm_Python_SDK-2.0.6-py3.7.egg/uarm/comm/threaded.py:102]: send: /dev/ttyACM0, b'#660 G0 X200.0 Y0.0 Z150.0 F10000.0\\n'\n",
      "[VERBOSE] 2020-10-21 19:43:01 [/usr/local/lib/python3.7/dist-packages/uArm_Python_SDK-2.0.6-py3.7.egg/uarm/comm/__init__.py:38]: recv: $660 ok\n",
      "[VERBOSE] 2020-10-21 19:43:01 [/usr/local/lib/python3.7/dist-packages/uArm_Python_SDK-2.0.6-py3.7.egg/uarm/comm/threaded.py:102]: send: /dev/ttyACM0, b'#661 M2231 V0\\n'\n",
      "[VERBOSE] 2020-10-21 19:43:01 [/usr/local/lib/python3.7/dist-packages/uArm_Python_SDK-2.0.6-py3.7.egg/uarm/comm/__init__.py:38]: recv: $661 ok\n",
      "[VERBOSE] 2020-10-21 19:43:01 [/usr/local/lib/python3.7/dist-packages/uArm_Python_SDK-2.0.6-py3.7.egg/uarm/comm/threaded.py:102]: send: /dev/ttyACM0, b'#662 M2232 V0\\n'\n",
      "[VERBOSE] 2020-10-21 19:43:01 [/usr/local/lib/python3.7/dist-packages/uArm_Python_SDK-2.0.6-py3.7.egg/uarm/comm/__init__.py:38]: recv: $662 ok\n",
      "[VERBOSE] 2020-10-21 19:43:01 [/usr/local/lib/python3.7/dist-packages/uArm_Python_SDK-2.0.6-py3.7.egg/uarm/comm/threaded.py:102]: send: /dev/ttyACM0, b'#663 G2202 N3 V90 F500000.0\\n'\n",
      "[VERBOSE] 2020-10-21 19:43:01 [/usr/local/lib/python3.7/dist-packages/uArm_Python_SDK-2.0.6-py3.7.egg/uarm/comm/__init__.py:38]: recv: $663 ok\n",
      "chosen: [0, 10]\n",
      "[VERBOSE] 2020-10-21 19:43:06 [/usr/local/lib/python3.7/dist-packages/uArm_Python_SDK-2.0.6-py3.7.egg/uarm/comm/threaded.py:102]: send: /dev/ttyACM0, b'#664 G2202 N0 V10 F500000.0\\n'\n",
      "[VERBOSE] 2020-10-21 19:43:06 [/usr/local/lib/python3.7/dist-packages/uArm_Python_SDK-2.0.6-py3.7.egg/uarm/comm/threaded.py:102]: send: /dev/ttyACM0, b'#665 M17\\n'\n",
      "[VERBOSE] 2020-10-21 19:43:06 [/usr/local/lib/python3.7/dist-packages/uArm_Python_SDK-2.0.6-py3.7.egg/uarm/comm/__init__.py:38]: recv: $664 ok\n",
      "[VERBOSE] 2020-10-21 19:43:06 [/usr/local/lib/python3.7/dist-packages/uArm_Python_SDK-2.0.6-py3.7.egg/uarm/comm/__init__.py:38]: recv: $665 ok\n",
      "[VERBOSE] 2020-10-21 19:43:06 [/usr/local/lib/python3.7/dist-packages/uArm_Python_SDK-2.0.6-py3.7.egg/uarm/comm/threaded.py:102]: send: /dev/ttyACM0, b'#666 G0 X200.0 Y0.0 Z150.0 F10000.0\\n'\n",
      "[VERBOSE] 2020-10-21 19:43:10 [/usr/local/lib/python3.7/dist-packages/uArm_Python_SDK-2.0.6-py3.7.egg/uarm/comm/__init__.py:38]: recv: $666 ok\n",
      "[VERBOSE] 2020-10-21 19:43:10 [/usr/local/lib/python3.7/dist-packages/uArm_Python_SDK-2.0.6-py3.7.egg/uarm/comm/threaded.py:102]: send: /dev/ttyACM0, b'#667 M2231 V0\\n'\n",
      "[VERBOSE] 2020-10-21 19:43:10 [/usr/local/lib/python3.7/dist-packages/uArm_Python_SDK-2.0.6-py3.7.egg/uarm/comm/__init__.py:38]: recv: $667 ok\n",
      "[VERBOSE] 2020-10-21 19:43:10 [/usr/local/lib/python3.7/dist-packages/uArm_Python_SDK-2.0.6-py3.7.egg/uarm/comm/threaded.py:102]: send: /dev/ttyACM0, b'#668 M2232 V0\\n'\n",
      "[VERBOSE] 2020-10-21 19:43:10 [/usr/local/lib/python3.7/dist-packages/uArm_Python_SDK-2.0.6-py3.7.egg/uarm/comm/__init__.py:38]: recv: $668 ok\n",
      "[VERBOSE] 2020-10-21 19:43:10 [/usr/local/lib/python3.7/dist-packages/uArm_Python_SDK-2.0.6-py3.7.egg/uarm/comm/threaded.py:102]: send: /dev/ttyACM0, b'#669 G2202 N3 V90 F500000.0\\n'\n",
      "[VERBOSE] 2020-10-21 19:43:10 [/usr/local/lib/python3.7/dist-packages/uArm_Python_SDK-2.0.6-py3.7.egg/uarm/comm/__init__.py:38]: recv: $669 ok\n",
      "chosen: [1, 90]\n",
      "[VERBOSE] 2020-10-21 19:43:15 [/usr/local/lib/python3.7/dist-packages/uArm_Python_SDK-2.0.6-py3.7.egg/uarm/comm/threaded.py:102]: send: /dev/ttyACM0, b'#670 G2202 N1 V90 F500000.0\\n'\n",
      "[VERBOSE] 2020-10-21 19:43:15 [/usr/local/lib/python3.7/dist-packages/uArm_Python_SDK-2.0.6-py3.7.egg/uarm/comm/threaded.py:102]: send: /dev/ttyACM0, b'#671 M17\\n'\n",
      "[VERBOSE] 2020-10-21 19:43:15 [/usr/local/lib/python3.7/dist-packages/uArm_Python_SDK-2.0.6-py3.7.egg/uarm/comm/__init__.py:38]: recv: $670 ok\n",
      "[VERBOSE] 2020-10-21 19:43:16 [/usr/local/lib/python3.7/dist-packages/uArm_Python_SDK-2.0.6-py3.7.egg/uarm/comm/__init__.py:38]: recv: $671 ok\n",
      "[VERBOSE] 2020-10-21 19:43:16 [/usr/local/lib/python3.7/dist-packages/uArm_Python_SDK-2.0.6-py3.7.egg/uarm/comm/threaded.py:102]: send: /dev/ttyACM0, b'#672 G0 X200.0 Y0.0 Z150.0 F10000.0\\n'\n",
      "[VERBOSE] 2020-10-21 19:43:17 [/usr/local/lib/python3.7/dist-packages/uArm_Python_SDK-2.0.6-py3.7.egg/uarm/comm/__init__.py:38]: recv: $672 ok\n",
      "[VERBOSE] 2020-10-21 19:43:17 [/usr/local/lib/python3.7/dist-packages/uArm_Python_SDK-2.0.6-py3.7.egg/uarm/comm/threaded.py:102]: send: /dev/ttyACM0, b'#673 M2231 V0\\n'\n",
      "[VERBOSE] 2020-10-21 19:43:17 [/usr/local/lib/python3.7/dist-packages/uArm_Python_SDK-2.0.6-py3.7.egg/uarm/comm/__init__.py:38]: recv: $673 ok\n",
      "[VERBOSE] 2020-10-21 19:43:17 [/usr/local/lib/python3.7/dist-packages/uArm_Python_SDK-2.0.6-py3.7.egg/uarm/comm/threaded.py:102]: send: /dev/ttyACM0, b'#674 M2232 V0\\n'\n",
      "[VERBOSE] 2020-10-21 19:43:17 [/usr/local/lib/python3.7/dist-packages/uArm_Python_SDK-2.0.6-py3.7.egg/uarm/comm/__init__.py:38]: recv: $674 ok\n",
      "[VERBOSE] 2020-10-21 19:43:17 [/usr/local/lib/python3.7/dist-packages/uArm_Python_SDK-2.0.6-py3.7.egg/uarm/comm/threaded.py:102]: send: /dev/ttyACM0, b'#675 G2202 N3 V90 F500000.0\\n'\n",
      "[VERBOSE] 2020-10-21 19:43:17 [/usr/local/lib/python3.7/dist-packages/uArm_Python_SDK-2.0.6-py3.7.egg/uarm/comm/__init__.py:38]: recv: $675 ok\n",
      "chosen: [1, 135]\n",
      "[VERBOSE] 2020-10-21 19:43:22 [/usr/local/lib/python3.7/dist-packages/uArm_Python_SDK-2.0.6-py3.7.egg/uarm/comm/threaded.py:102]: send: /dev/ttyACM0, b'#676 G2202 N1 V135 F500000.0\\n'\n",
      "[VERBOSE] 2020-10-21 19:43:22 [/usr/local/lib/python3.7/dist-packages/uArm_Python_SDK-2.0.6-py3.7.egg/uarm/comm/threaded.py:102]: send: /dev/ttyACM0, b'#677 M17\\n'\n",
      "[VERBOSE] 2020-10-21 19:43:22 [/usr/local/lib/python3.7/dist-packages/uArm_Python_SDK-2.0.6-py3.7.egg/uarm/comm/__init__.py:38]: recv: $676 ok\n",
      "[VERBOSE] 2020-10-21 19:43:23 [/usr/local/lib/python3.7/dist-packages/uArm_Python_SDK-2.0.6-py3.7.egg/uarm/comm/__init__.py:38]: recv: $677 ok\n",
      "[VERBOSE] 2020-10-21 19:43:23 [/usr/local/lib/python3.7/dist-packages/uArm_Python_SDK-2.0.6-py3.7.egg/uarm/comm/threaded.py:102]: send: /dev/ttyACM0, b'#678 G0 X200.0 Y0.0 Z150.0 F10000.0\\n'\n",
      "[VERBOSE] 2020-10-21 19:43:25 [/usr/local/lib/python3.7/dist-packages/uArm_Python_SDK-2.0.6-py3.7.egg/uarm/comm/__init__.py:38]: recv: $678 ok\n",
      "[VERBOSE] 2020-10-21 19:43:25 [/usr/local/lib/python3.7/dist-packages/uArm_Python_SDK-2.0.6-py3.7.egg/uarm/comm/threaded.py:102]: send: /dev/ttyACM0, b'#679 M2231 V0\\n'\n",
      "[VERBOSE] 2020-10-21 19:43:25 [/usr/local/lib/python3.7/dist-packages/uArm_Python_SDK-2.0.6-py3.7.egg/uarm/comm/__init__.py:38]: recv: $679 ok\n",
      "[VERBOSE] 2020-10-21 19:43:25 [/usr/local/lib/python3.7/dist-packages/uArm_Python_SDK-2.0.6-py3.7.egg/uarm/comm/threaded.py:102]: send: /dev/ttyACM0, b'#680 M2232 V0\\n'\n",
      "[VERBOSE] 2020-10-21 19:43:25 [/usr/local/lib/python3.7/dist-packages/uArm_Python_SDK-2.0.6-py3.7.egg/uarm/comm/__init__.py:38]: recv: $680 ok\n",
      "[VERBOSE] 2020-10-21 19:43:25 [/usr/local/lib/python3.7/dist-packages/uArm_Python_SDK-2.0.6-py3.7.egg/uarm/comm/threaded.py:102]: send: /dev/ttyACM0, b'#681 G2202 N3 V90 F500000.0\\n'\n",
      "[VERBOSE] 2020-10-21 19:43:25 [/usr/local/lib/python3.7/dist-packages/uArm_Python_SDK-2.0.6-py3.7.egg/uarm/comm/__init__.py:38]: recv: $681 ok\n",
      "chosen: [1, 160]\n",
      "[VERBOSE] 2020-10-21 19:43:30 [/usr/local/lib/python3.7/dist-packages/uArm_Python_SDK-2.0.6-py3.7.egg/uarm/comm/threaded.py:102]: send: /dev/ttyACM0, b'#682 G2202 N1 V160 F500000.0\\n'\n",
      "[VERBOSE] 2020-10-21 19:43:30 [/usr/local/lib/python3.7/dist-packages/uArm_Python_SDK-2.0.6-py3.7.egg/uarm/comm/threaded.py:102]: send: /dev/ttyACM0, b'#683 M17\\n'\n",
      "[VERBOSE] 2020-10-21 19:43:30 [/usr/local/lib/python3.7/dist-packages/uArm_Python_SDK-2.0.6-py3.7.egg/uarm/comm/__init__.py:38]: recv: $682 ok\n",
      "[VERBOSE] 2020-10-21 19:43:31 [/usr/local/lib/python3.7/dist-packages/uArm_Python_SDK-2.0.6-py3.7.egg/uarm/comm/__init__.py:38]: recv: $683 ok\n",
      "[VERBOSE] 2020-10-21 19:43:31 [/usr/local/lib/python3.7/dist-packages/uArm_Python_SDK-2.0.6-py3.7.egg/uarm/comm/threaded.py:102]: send: /dev/ttyACM0, b'#684 G0 X200.0 Y0.0 Z150.0 F10000.0\\n'\n",
      "[VERBOSE] 2020-10-21 19:43:33 [/usr/local/lib/python3.7/dist-packages/uArm_Python_SDK-2.0.6-py3.7.egg/uarm/comm/__init__.py:38]: recv: $684 ok\n",
      "[VERBOSE] 2020-10-21 19:43:33 [/usr/local/lib/python3.7/dist-packages/uArm_Python_SDK-2.0.6-py3.7.egg/uarm/comm/threaded.py:102]: send: /dev/ttyACM0, b'#685 M2231 V0\\n'\n",
      "[VERBOSE] 2020-10-21 19:43:33 [/usr/local/lib/python3.7/dist-packages/uArm_Python_SDK-2.0.6-py3.7.egg/uarm/comm/__init__.py:38]: recv: $685 ok\n",
      "[VERBOSE] 2020-10-21 19:43:33 [/usr/local/lib/python3.7/dist-packages/uArm_Python_SDK-2.0.6-py3.7.egg/uarm/comm/threaded.py:102]: send: /dev/ttyACM0, b'#686 M2232 V0\\n'\n",
      "[VERBOSE] 2020-10-21 19:43:33 [/usr/local/lib/python3.7/dist-packages/uArm_Python_SDK-2.0.6-py3.7.egg/uarm/comm/__init__.py:38]: recv: $686 ok\n",
      "[VERBOSE] 2020-10-21 19:43:33 [/usr/local/lib/python3.7/dist-packages/uArm_Python_SDK-2.0.6-py3.7.egg/uarm/comm/threaded.py:102]: send: /dev/ttyACM0, b'#687 G2202 N3 V90 F500000.0\\n'\n",
      "[VERBOSE] 2020-10-21 19:43:33 [/usr/local/lib/python3.7/dist-packages/uArm_Python_SDK-2.0.6-py3.7.egg/uarm/comm/__init__.py:38]: recv: $687 ok\n",
      "chosen: [1, 10]\n",
      "[VERBOSE] 2020-10-21 19:43:38 [/usr/local/lib/python3.7/dist-packages/uArm_Python_SDK-2.0.6-py3.7.egg/uarm/comm/threaded.py:102]: send: /dev/ttyACM0, b'#688 G2202 N1 V10 F500000.0\\n'\n",
      "[VERBOSE] 2020-10-21 19:43:38 [/usr/local/lib/python3.7/dist-packages/uArm_Python_SDK-2.0.6-py3.7.egg/uarm/comm/threaded.py:102]: send: /dev/ttyACM0, b'#689 M17\\n'\n",
      "[VERBOSE] 2020-10-21 19:43:38 [/usr/local/lib/python3.7/dist-packages/uArm_Python_SDK-2.0.6-py3.7.egg/uarm/comm/__init__.py:38]: recv: $688 ok\n",
      "[VERBOSE] 2020-10-21 19:43:39 [/usr/local/lib/python3.7/dist-packages/uArm_Python_SDK-2.0.6-py3.7.egg/uarm/comm/__init__.py:38]: recv: $689 ok\n",
      "[VERBOSE] 2020-10-21 19:43:39 [/usr/local/lib/python3.7/dist-packages/uArm_Python_SDK-2.0.6-py3.7.egg/uarm/comm/threaded.py:102]: send: /dev/ttyACM0, b'#690 G0 X200.0 Y0.0 Z150.0 F10000.0\\n'\n",
      "[VERBOSE] 2020-10-21 19:43:43 [/usr/local/lib/python3.7/dist-packages/uArm_Python_SDK-2.0.6-py3.7.egg/uarm/comm/__init__.py:38]: recv: $690 ok\n",
      "[VERBOSE] 2020-10-21 19:43:43 [/usr/local/lib/python3.7/dist-packages/uArm_Python_SDK-2.0.6-py3.7.egg/uarm/comm/threaded.py:102]: send: /dev/ttyACM0, b'#691 M2231 V0\\n'\n",
      "[VERBOSE] 2020-10-21 19:43:43 [/usr/local/lib/python3.7/dist-packages/uArm_Python_SDK-2.0.6-py3.7.egg/uarm/comm/__init__.py:38]: recv: $691 ok\n",
      "[VERBOSE] 2020-10-21 19:43:43 [/usr/local/lib/python3.7/dist-packages/uArm_Python_SDK-2.0.6-py3.7.egg/uarm/comm/threaded.py:102]: send: /dev/ttyACM0, b'#692 M2232 V0\\n'\n",
      "[VERBOSE] 2020-10-21 19:43:43 [/usr/local/lib/python3.7/dist-packages/uArm_Python_SDK-2.0.6-py3.7.egg/uarm/comm/__init__.py:38]: recv: $692 ok\n",
      "[VERBOSE] 2020-10-21 19:43:43 [/usr/local/lib/python3.7/dist-packages/uArm_Python_SDK-2.0.6-py3.7.egg/uarm/comm/threaded.py:102]: send: /dev/ttyACM0, b'#693 G2202 N3 V90 F500000.0\\n'\n",
      "[VERBOSE] 2020-10-21 19:43:43 [/usr/local/lib/python3.7/dist-packages/uArm_Python_SDK-2.0.6-py3.7.egg/uarm/comm/__init__.py:38]: recv: $693 ok\n",
      "chosen: [1, 10]\n",
      "[VERBOSE] 2020-10-21 19:43:48 [/usr/local/lib/python3.7/dist-packages/uArm_Python_SDK-2.0.6-py3.7.egg/uarm/comm/threaded.py:102]: send: /dev/ttyACM0, b'#694 G2202 N1 V10 F500000.0\\n'\n",
      "[VERBOSE] 2020-10-21 19:43:48 [/usr/local/lib/python3.7/dist-packages/uArm_Python_SDK-2.0.6-py3.7.egg/uarm/comm/threaded.py:102]: send: /dev/ttyACM0, b'#695 M17\\n'\n",
      "[VERBOSE] 2020-10-21 19:43:48 [/usr/local/lib/python3.7/dist-packages/uArm_Python_SDK-2.0.6-py3.7.egg/uarm/comm/__init__.py:38]: recv: $694 ok\n",
      "[VERBOSE] 2020-10-21 19:43:49 [/usr/local/lib/python3.7/dist-packages/uArm_Python_SDK-2.0.6-py3.7.egg/uarm/comm/__init__.py:38]: recv: $695 ok\n",
      "[VERBOSE] 2020-10-21 19:43:49 [/usr/local/lib/python3.7/dist-packages/uArm_Python_SDK-2.0.6-py3.7.egg/uarm/comm/threaded.py:102]: send: /dev/ttyACM0, b'#696 G0 X200.0 Y0.0 Z150.0 F10000.0\\n'\n",
      "[VERBOSE] 2020-10-21 19:43:54 [/usr/local/lib/python3.7/dist-packages/uArm_Python_SDK-2.0.6-py3.7.egg/uarm/comm/__init__.py:38]: recv: $696 ok\n",
      "[VERBOSE] 2020-10-21 19:43:54 [/usr/local/lib/python3.7/dist-packages/uArm_Python_SDK-2.0.6-py3.7.egg/uarm/comm/threaded.py:102]: send: /dev/ttyACM0, b'#697 M2231 V0\\n'\n",
      "[VERBOSE] 2020-10-21 19:43:54 [/usr/local/lib/python3.7/dist-packages/uArm_Python_SDK-2.0.6-py3.7.egg/uarm/comm/__init__.py:38]: recv: $697 ok\n",
      "[VERBOSE] 2020-10-21 19:43:54 [/usr/local/lib/python3.7/dist-packages/uArm_Python_SDK-2.0.6-py3.7.egg/uarm/comm/threaded.py:102]: send: /dev/ttyACM0, b'#698 M2232 V0\\n'\n",
      "[VERBOSE] 2020-10-21 19:43:54 [/usr/local/lib/python3.7/dist-packages/uArm_Python_SDK-2.0.6-py3.7.egg/uarm/comm/__init__.py:38]: recv: $698 ok\n",
      "[VERBOSE] 2020-10-21 19:43:54 [/usr/local/lib/python3.7/dist-packages/uArm_Python_SDK-2.0.6-py3.7.egg/uarm/comm/threaded.py:102]: send: /dev/ttyACM0, b'#699 G2202 N3 V90 F500000.0\\n'\n",
      "[VERBOSE] 2020-10-21 19:43:54 [/usr/local/lib/python3.7/dist-packages/uArm_Python_SDK-2.0.6-py3.7.egg/uarm/comm/__init__.py:38]: recv: $699 ok\n",
      "chosen: [0, 45]\n",
      "[VERBOSE] 2020-10-21 19:43:59 [/usr/local/lib/python3.7/dist-packages/uArm_Python_SDK-2.0.6-py3.7.egg/uarm/comm/threaded.py:102]: send: /dev/ttyACM0, b'#700 G2202 N0 V45 F500000.0\\n'\n",
      "[VERBOSE] 2020-10-21 19:43:59 [/usr/local/lib/python3.7/dist-packages/uArm_Python_SDK-2.0.6-py3.7.egg/uarm/comm/threaded.py:102]: send: /dev/ttyACM0, b'#701 M17\\n'\n",
      "[VERBOSE] 2020-10-21 19:43:59 [/usr/local/lib/python3.7/dist-packages/uArm_Python_SDK-2.0.6-py3.7.egg/uarm/comm/__init__.py:38]: recv: $700 ok\n",
      "[VERBOSE] 2020-10-21 19:44:00 [/usr/local/lib/python3.7/dist-packages/uArm_Python_SDK-2.0.6-py3.7.egg/uarm/comm/__init__.py:38]: recv: $701 ok\n",
      "[VERBOSE] 2020-10-21 19:44:00 [/usr/local/lib/python3.7/dist-packages/uArm_Python_SDK-2.0.6-py3.7.egg/uarm/comm/threaded.py:102]: send: /dev/ttyACM0, b'#702 G0 X200.0 Y0.0 Z150.0 F10000.0\\n'\n",
      "[VERBOSE] 2020-10-21 19:44:03 [/usr/local/lib/python3.7/dist-packages/uArm_Python_SDK-2.0.6-py3.7.egg/uarm/comm/__init__.py:38]: recv: $702 ok\n",
      "[VERBOSE] 2020-10-21 19:44:03 [/usr/local/lib/python3.7/dist-packages/uArm_Python_SDK-2.0.6-py3.7.egg/uarm/comm/threaded.py:102]: send: /dev/ttyACM0, b'#703 M2231 V0\\n'\n",
      "[VERBOSE] 2020-10-21 19:44:03 [/usr/local/lib/python3.7/dist-packages/uArm_Python_SDK-2.0.6-py3.7.egg/uarm/comm/__init__.py:38]: recv: $703 ok\n",
      "[VERBOSE] 2020-10-21 19:44:03 [/usr/local/lib/python3.7/dist-packages/uArm_Python_SDK-2.0.6-py3.7.egg/uarm/comm/threaded.py:102]: send: /dev/ttyACM0, b'#704 M2232 V0\\n'\n",
      "[VERBOSE] 2020-10-21 19:44:03 [/usr/local/lib/python3.7/dist-packages/uArm_Python_SDK-2.0.6-py3.7.egg/uarm/comm/__init__.py:38]: recv: $704 ok\n",
      "[VERBOSE] 2020-10-21 19:44:03 [/usr/local/lib/python3.7/dist-packages/uArm_Python_SDK-2.0.6-py3.7.egg/uarm/comm/threaded.py:102]: send: /dev/ttyACM0, b'#705 G2202 N3 V90 F500000.0\\n'\n",
      "[VERBOSE] 2020-10-21 19:44:03 [/usr/local/lib/python3.7/dist-packages/uArm_Python_SDK-2.0.6-py3.7.egg/uarm/comm/__init__.py:38]: recv: $705 ok\n",
      "chosen: [1, 160]\n",
      "[VERBOSE] 2020-10-21 19:44:08 [/usr/local/lib/python3.7/dist-packages/uArm_Python_SDK-2.0.6-py3.7.egg/uarm/comm/threaded.py:102]: send: /dev/ttyACM0, b'#706 G2202 N1 V160 F500000.0\\n'\n",
      "[VERBOSE] 2020-10-21 19:44:08 [/usr/local/lib/python3.7/dist-packages/uArm_Python_SDK-2.0.6-py3.7.egg/uarm/comm/threaded.py:102]: send: /dev/ttyACM0, b'#707 M17\\n'\n",
      "[VERBOSE] 2020-10-21 19:44:08 [/usr/local/lib/python3.7/dist-packages/uArm_Python_SDK-2.0.6-py3.7.egg/uarm/comm/__init__.py:38]: recv: $706 ok\n",
      "[VERBOSE] 2020-10-21 19:44:09 [/usr/local/lib/python3.7/dist-packages/uArm_Python_SDK-2.0.6-py3.7.egg/uarm/comm/__init__.py:38]: recv: $707 ok\n",
      "[VERBOSE] 2020-10-21 19:44:09 [/usr/local/lib/python3.7/dist-packages/uArm_Python_SDK-2.0.6-py3.7.egg/uarm/comm/threaded.py:102]: send: /dev/ttyACM0, b'#708 G0 X200.0 Y0.0 Z150.0 F10000.0\\n'\n",
      "[VERBOSE] 2020-10-21 19:44:11 [/usr/local/lib/python3.7/dist-packages/uArm_Python_SDK-2.0.6-py3.7.egg/uarm/comm/__init__.py:38]: recv: $708 ok\n",
      "[VERBOSE] 2020-10-21 19:44:11 [/usr/local/lib/python3.7/dist-packages/uArm_Python_SDK-2.0.6-py3.7.egg/uarm/comm/threaded.py:102]: send: /dev/ttyACM0, b'#709 M2231 V0\\n'\n",
      "[VERBOSE] 2020-10-21 19:44:11 [/usr/local/lib/python3.7/dist-packages/uArm_Python_SDK-2.0.6-py3.7.egg/uarm/comm/__init__.py:38]: recv: $709 ok\n",
      "[VERBOSE] 2020-10-21 19:44:11 [/usr/local/lib/python3.7/dist-packages/uArm_Python_SDK-2.0.6-py3.7.egg/uarm/comm/threaded.py:102]: send: /dev/ttyACM0, b'#710 M2232 V0\\n'\n",
      "[VERBOSE] 2020-10-21 19:44:11 [/usr/local/lib/python3.7/dist-packages/uArm_Python_SDK-2.0.6-py3.7.egg/uarm/comm/__init__.py:38]: recv: $710 ok\n",
      "[VERBOSE] 2020-10-21 19:44:11 [/usr/local/lib/python3.7/dist-packages/uArm_Python_SDK-2.0.6-py3.7.egg/uarm/comm/threaded.py:102]: send: /dev/ttyACM0, b'#711 G2202 N3 V90 F500000.0\\n'\n",
      "[VERBOSE] 2020-10-21 19:44:11 [/usr/local/lib/python3.7/dist-packages/uArm_Python_SDK-2.0.6-py3.7.egg/uarm/comm/__init__.py:38]: recv: $711 ok\n",
      "chosen: [0, 10]\n",
      "[VERBOSE] 2020-10-21 19:44:16 [/usr/local/lib/python3.7/dist-packages/uArm_Python_SDK-2.0.6-py3.7.egg/uarm/comm/threaded.py:102]: send: /dev/ttyACM0, b'#712 G2202 N0 V10 F500000.0\\n'\n",
      "[VERBOSE] 2020-10-21 19:44:16 [/usr/local/lib/python3.7/dist-packages/uArm_Python_SDK-2.0.6-py3.7.egg/uarm/comm/threaded.py:102]: send: /dev/ttyACM0, b'#713 M17\\n'\n",
      "[VERBOSE] 2020-10-21 19:44:16 [/usr/local/lib/python3.7/dist-packages/uArm_Python_SDK-2.0.6-py3.7.egg/uarm/comm/__init__.py:38]: recv: $712 ok\n",
      "[VERBOSE] 2020-10-21 19:44:17 [/usr/local/lib/python3.7/dist-packages/uArm_Python_SDK-2.0.6-py3.7.egg/uarm/comm/__init__.py:38]: recv: $713 ok\n",
      "[VERBOSE] 2020-10-21 19:44:17 [/usr/local/lib/python3.7/dist-packages/uArm_Python_SDK-2.0.6-py3.7.egg/uarm/comm/threaded.py:102]: send: /dev/ttyACM0, b'#714 G0 X200.0 Y0.0 Z150.0 F10000.0\\n'\n",
      "[VERBOSE] 2020-10-21 19:44:20 [/usr/local/lib/python3.7/dist-packages/uArm_Python_SDK-2.0.6-py3.7.egg/uarm/comm/__init__.py:38]: recv: $714 ok\n",
      "[VERBOSE] 2020-10-21 19:44:20 [/usr/local/lib/python3.7/dist-packages/uArm_Python_SDK-2.0.6-py3.7.egg/uarm/comm/threaded.py:102]: send: /dev/ttyACM0, b'#715 M2231 V0\\n'\n",
      "[VERBOSE] 2020-10-21 19:44:20 [/usr/local/lib/python3.7/dist-packages/uArm_Python_SDK-2.0.6-py3.7.egg/uarm/comm/__init__.py:38]: recv: $715 ok\n",
      "[VERBOSE] 2020-10-21 19:44:20 [/usr/local/lib/python3.7/dist-packages/uArm_Python_SDK-2.0.6-py3.7.egg/uarm/comm/threaded.py:102]: send: /dev/ttyACM0, b'#716 M2232 V0\\n'\n",
      "[VERBOSE] 2020-10-21 19:44:20 [/usr/local/lib/python3.7/dist-packages/uArm_Python_SDK-2.0.6-py3.7.egg/uarm/comm/__init__.py:38]: recv: $716 ok\n",
      "[VERBOSE] 2020-10-21 19:44:20 [/usr/local/lib/python3.7/dist-packages/uArm_Python_SDK-2.0.6-py3.7.egg/uarm/comm/threaded.py:102]: send: /dev/ttyACM0, b'#717 G2202 N3 V90 F500000.0\\n'\n",
      "[VERBOSE] 2020-10-21 19:44:20 [/usr/local/lib/python3.7/dist-packages/uArm_Python_SDK-2.0.6-py3.7.egg/uarm/comm/__init__.py:38]: recv: $717 ok\n",
      "chosen: [0, 45]\n",
      "[VERBOSE] 2020-10-21 19:44:25 [/usr/local/lib/python3.7/dist-packages/uArm_Python_SDK-2.0.6-py3.7.egg/uarm/comm/threaded.py:102]: send: /dev/ttyACM0, b'#718 G2202 N0 V45 F500000.0\\n'\n",
      "[VERBOSE] 2020-10-21 19:44:25 [/usr/local/lib/python3.7/dist-packages/uArm_Python_SDK-2.0.6-py3.7.egg/uarm/comm/threaded.py:102]: send: /dev/ttyACM0, b'#719 M17\\n'\n",
      "[VERBOSE] 2020-10-21 19:44:25 [/usr/local/lib/python3.7/dist-packages/uArm_Python_SDK-2.0.6-py3.7.egg/uarm/comm/__init__.py:38]: recv: $718 ok\n",
      "[VERBOSE] 2020-10-21 19:44:26 [/usr/local/lib/python3.7/dist-packages/uArm_Python_SDK-2.0.6-py3.7.egg/uarm/comm/__init__.py:38]: recv: $719 ok\n",
      "[VERBOSE] 2020-10-21 19:44:26 [/usr/local/lib/python3.7/dist-packages/uArm_Python_SDK-2.0.6-py3.7.egg/uarm/comm/threaded.py:102]: send: /dev/ttyACM0, b'#720 G0 X200.0 Y0.0 Z150.0 F10000.0\\n'\n",
      "[VERBOSE] 2020-10-21 19:44:30 [/usr/local/lib/python3.7/dist-packages/uArm_Python_SDK-2.0.6-py3.7.egg/uarm/comm/__init__.py:38]: recv: $720 ok\n",
      "[VERBOSE] 2020-10-21 19:44:30 [/usr/local/lib/python3.7/dist-packages/uArm_Python_SDK-2.0.6-py3.7.egg/uarm/comm/threaded.py:102]: send: /dev/ttyACM0, b'#721 M2231 V0\\n'\n",
      "[VERBOSE] 2020-10-21 19:44:30 [/usr/local/lib/python3.7/dist-packages/uArm_Python_SDK-2.0.6-py3.7.egg/uarm/comm/__init__.py:38]: recv: $721 ok\n",
      "[VERBOSE] 2020-10-21 19:44:30 [/usr/local/lib/python3.7/dist-packages/uArm_Python_SDK-2.0.6-py3.7.egg/uarm/comm/threaded.py:102]: send: /dev/ttyACM0, b'#722 M2232 V0\\n'\n",
      "[VERBOSE] 2020-10-21 19:44:30 [/usr/local/lib/python3.7/dist-packages/uArm_Python_SDK-2.0.6-py3.7.egg/uarm/comm/__init__.py:38]: recv: $722 ok\n",
      "[VERBOSE] 2020-10-21 19:44:30 [/usr/local/lib/python3.7/dist-packages/uArm_Python_SDK-2.0.6-py3.7.egg/uarm/comm/threaded.py:102]: send: /dev/ttyACM0, b'#723 G2202 N3 V90 F500000.0\\n'\n",
      "[VERBOSE] 2020-10-21 19:44:30 [/usr/local/lib/python3.7/dist-packages/uArm_Python_SDK-2.0.6-py3.7.egg/uarm/comm/__init__.py:38]: recv: $723 ok\n",
      "chosen: [0, 160]\n",
      "[VERBOSE] 2020-10-21 19:44:35 [/usr/local/lib/python3.7/dist-packages/uArm_Python_SDK-2.0.6-py3.7.egg/uarm/comm/threaded.py:102]: send: /dev/ttyACM0, b'#724 G2202 N0 V160 F500000.0\\n'\n",
      "[VERBOSE] 2020-10-21 19:44:35 [/usr/local/lib/python3.7/dist-packages/uArm_Python_SDK-2.0.6-py3.7.egg/uarm/comm/threaded.py:102]: send: /dev/ttyACM0, b'#725 M17\\n'\n",
      "[VERBOSE] 2020-10-21 19:44:35 [/usr/local/lib/python3.7/dist-packages/uArm_Python_SDK-2.0.6-py3.7.egg/uarm/comm/__init__.py:38]: recv: $724 ok\n",
      "[VERBOSE] 2020-10-21 19:44:35 [/usr/local/lib/python3.7/dist-packages/uArm_Python_SDK-2.0.6-py3.7.egg/uarm/comm/__init__.py:38]: recv: $725 ok\n",
      "[VERBOSE] 2020-10-21 19:44:35 [/usr/local/lib/python3.7/dist-packages/uArm_Python_SDK-2.0.6-py3.7.egg/uarm/comm/threaded.py:102]: send: /dev/ttyACM0, b'#726 G0 X200.0 Y0.0 Z150.0 F10000.0\\n'\n",
      "[VERBOSE] 2020-10-21 19:44:39 [/usr/local/lib/python3.7/dist-packages/uArm_Python_SDK-2.0.6-py3.7.egg/uarm/comm/__init__.py:38]: recv: $726 ok\n",
      "[VERBOSE] 2020-10-21 19:44:39 [/usr/local/lib/python3.7/dist-packages/uArm_Python_SDK-2.0.6-py3.7.egg/uarm/comm/threaded.py:102]: send: /dev/ttyACM0, b'#727 M2231 V0\\n'\n",
      "[VERBOSE] 2020-10-21 19:44:39 [/usr/local/lib/python3.7/dist-packages/uArm_Python_SDK-2.0.6-py3.7.egg/uarm/comm/__init__.py:38]: recv: $727 ok\n",
      "[VERBOSE] 2020-10-21 19:44:39 [/usr/local/lib/python3.7/dist-packages/uArm_Python_SDK-2.0.6-py3.7.egg/uarm/comm/threaded.py:102]: send: /dev/ttyACM0, b'#728 M2232 V0\\n'\n",
      "[VERBOSE] 2020-10-21 19:44:39 [/usr/local/lib/python3.7/dist-packages/uArm_Python_SDK-2.0.6-py3.7.egg/uarm/comm/__init__.py:38]: recv: $728 ok\n",
      "[VERBOSE] 2020-10-21 19:44:39 [/usr/local/lib/python3.7/dist-packages/uArm_Python_SDK-2.0.6-py3.7.egg/uarm/comm/threaded.py:102]: send: /dev/ttyACM0, b'#729 G2202 N3 V90 F500000.0\\n'\n",
      "[VERBOSE] 2020-10-21 19:44:39 [/usr/local/lib/python3.7/dist-packages/uArm_Python_SDK-2.0.6-py3.7.egg/uarm/comm/__init__.py:38]: recv: $729 ok\n",
      "chosen: [1, 10]\n",
      "[VERBOSE] 2020-10-21 19:44:44 [/usr/local/lib/python3.7/dist-packages/uArm_Python_SDK-2.0.6-py3.7.egg/uarm/comm/threaded.py:102]: send: /dev/ttyACM0, b'#730 G2202 N1 V10 F500000.0\\n'\n",
      "[VERBOSE] 2020-10-21 19:44:44 [/usr/local/lib/python3.7/dist-packages/uArm_Python_SDK-2.0.6-py3.7.egg/uarm/comm/threaded.py:102]: send: /dev/ttyACM0, b'#731 M17\\n'\n",
      "[VERBOSE] 2020-10-21 19:44:44 [/usr/local/lib/python3.7/dist-packages/uArm_Python_SDK-2.0.6-py3.7.egg/uarm/comm/__init__.py:38]: recv: $730 ok\n",
      "[VERBOSE] 2020-10-21 19:44:45 [/usr/local/lib/python3.7/dist-packages/uArm_Python_SDK-2.0.6-py3.7.egg/uarm/comm/__init__.py:38]: recv: $731 ok\n",
      "[VERBOSE] 2020-10-21 19:44:45 [/usr/local/lib/python3.7/dist-packages/uArm_Python_SDK-2.0.6-py3.7.egg/uarm/comm/threaded.py:102]: send: /dev/ttyACM0, b'#732 G0 X200.0 Y0.0 Z150.0 F10000.0\\n'\n",
      "[VERBOSE] 2020-10-21 19:44:49 [/usr/local/lib/python3.7/dist-packages/uArm_Python_SDK-2.0.6-py3.7.egg/uarm/comm/__init__.py:38]: recv: $732 ok\n",
      "[VERBOSE] 2020-10-21 19:44:49 [/usr/local/lib/python3.7/dist-packages/uArm_Python_SDK-2.0.6-py3.7.egg/uarm/comm/threaded.py:102]: send: /dev/ttyACM0, b'#733 M2231 V0\\n'\n",
      "[VERBOSE] 2020-10-21 19:44:49 [/usr/local/lib/python3.7/dist-packages/uArm_Python_SDK-2.0.6-py3.7.egg/uarm/comm/__init__.py:38]: recv: $733 ok\n",
      "[VERBOSE] 2020-10-21 19:44:49 [/usr/local/lib/python3.7/dist-packages/uArm_Python_SDK-2.0.6-py3.7.egg/uarm/comm/threaded.py:102]: send: /dev/ttyACM0, b'#734 M2232 V0\\n'\n",
      "[VERBOSE] 2020-10-21 19:44:49 [/usr/local/lib/python3.7/dist-packages/uArm_Python_SDK-2.0.6-py3.7.egg/uarm/comm/__init__.py:38]: recv: $734 ok\n",
      "[VERBOSE] 2020-10-21 19:44:49 [/usr/local/lib/python3.7/dist-packages/uArm_Python_SDK-2.0.6-py3.7.egg/uarm/comm/threaded.py:102]: send: /dev/ttyACM0, b'#735 G2202 N3 V90 F500000.0\\n'\n",
      "[VERBOSE] 2020-10-21 19:44:49 [/usr/local/lib/python3.7/dist-packages/uArm_Python_SDK-2.0.6-py3.7.egg/uarm/comm/__init__.py:38]: recv: $735 ok\n",
      "chosen: [0, 10]\n",
      "[VERBOSE] 2020-10-21 19:44:54 [/usr/local/lib/python3.7/dist-packages/uArm_Python_SDK-2.0.6-py3.7.egg/uarm/comm/threaded.py:102]: send: /dev/ttyACM0, b'#736 G2202 N0 V10 F500000.0\\n'\n",
      "[VERBOSE] 2020-10-21 19:44:54 [/usr/local/lib/python3.7/dist-packages/uArm_Python_SDK-2.0.6-py3.7.egg/uarm/comm/threaded.py:102]: send: /dev/ttyACM0, b'#737 M17\\n'\n",
      "[VERBOSE] 2020-10-21 19:44:55 [/usr/local/lib/python3.7/dist-packages/uArm_Python_SDK-2.0.6-py3.7.egg/uarm/comm/__init__.py:38]: recv: $736 ok\n",
      "[VERBOSE] 2020-10-21 19:44:55 [/usr/local/lib/python3.7/dist-packages/uArm_Python_SDK-2.0.6-py3.7.egg/uarm/comm/__init__.py:38]: recv: $737 ok\n",
      "[VERBOSE] 2020-10-21 19:44:55 [/usr/local/lib/python3.7/dist-packages/uArm_Python_SDK-2.0.6-py3.7.egg/uarm/comm/threaded.py:102]: send: /dev/ttyACM0, b'#738 G0 X200.0 Y0.0 Z150.0 F10000.0\\n'\n",
      "[VERBOSE] 2020-10-21 19:45:01 [/usr/local/lib/python3.7/dist-packages/uArm_Python_SDK-2.0.6-py3.7.egg/uarm/comm/__init__.py:38]: recv: $738 ok\n",
      "[VERBOSE] 2020-10-21 19:45:01 [/usr/local/lib/python3.7/dist-packages/uArm_Python_SDK-2.0.6-py3.7.egg/uarm/comm/threaded.py:102]: send: /dev/ttyACM0, b'#739 M2231 V0\\n'\n",
      "[VERBOSE] 2020-10-21 19:45:01 [/usr/local/lib/python3.7/dist-packages/uArm_Python_SDK-2.0.6-py3.7.egg/uarm/comm/__init__.py:38]: recv: $739 ok\n",
      "[VERBOSE] 2020-10-21 19:45:01 [/usr/local/lib/python3.7/dist-packages/uArm_Python_SDK-2.0.6-py3.7.egg/uarm/comm/threaded.py:102]: send: /dev/ttyACM0, b'#740 M2232 V0\\n'\n",
      "[VERBOSE] 2020-10-21 19:45:01 [/usr/local/lib/python3.7/dist-packages/uArm_Python_SDK-2.0.6-py3.7.egg/uarm/comm/__init__.py:38]: recv: $740 ok\n",
      "[VERBOSE] 2020-10-21 19:45:01 [/usr/local/lib/python3.7/dist-packages/uArm_Python_SDK-2.0.6-py3.7.egg/uarm/comm/threaded.py:102]: send: /dev/ttyACM0, b'#741 G2202 N3 V90 F500000.0\\n'\n",
      "[VERBOSE] 2020-10-21 19:45:01 [/usr/local/lib/python3.7/dist-packages/uArm_Python_SDK-2.0.6-py3.7.egg/uarm/comm/__init__.py:38]: recv: $741 ok\n"
     ]
    },
    {
     "ename": "KeyboardInterrupt",
     "evalue": "",
     "output_type": "error",
     "traceback": [
      "\u001b[0;31m---------------------------------------------------------------------------\u001b[0m",
      "\u001b[0;31mKeyboardInterrupt\u001b[0m                         Traceback (most recent call last)",
      "\u001b[0;32m<ipython-input-94-f249dedd8981>\u001b[0m in \u001b[0;36m<module>\u001b[0;34m()\u001b[0m\n\u001b[1;32m      1\u001b[0m \u001b[0;32mwhile\u001b[0m \u001b[0;32mTrue\u001b[0m\u001b[0;34m:\u001b[0m\u001b[0;34m\u001b[0m\u001b[0;34m\u001b[0m\u001b[0m\n\u001b[1;32m      2\u001b[0m     \u001b[0mswift\u001b[0m\u001b[0;34m.\u001b[0m\u001b[0mreset\u001b[0m\u001b[0;34m(\u001b[0m\u001b[0mwait\u001b[0m\u001b[0;34m=\u001b[0m\u001b[0;32mTrue\u001b[0m\u001b[0;34m,\u001b[0m\u001b[0mspeed\u001b[0m\u001b[0;34m=\u001b[0m\u001b[0;36m10000\u001b[0m\u001b[0;34m)\u001b[0m\u001b[0;34m\u001b[0m\u001b[0;34m\u001b[0m\u001b[0m\n\u001b[0;32m----> 3\u001b[0;31m     \u001b[0mtime\u001b[0m\u001b[0;34m.\u001b[0m\u001b[0msleep\u001b[0m\u001b[0;34m(\u001b[0m\u001b[0;36m5\u001b[0m\u001b[0;34m)\u001b[0m\u001b[0;34m\u001b[0m\u001b[0;34m\u001b[0m\u001b[0m\n\u001b[0m\u001b[1;32m      4\u001b[0m     \u001b[0mchoice\u001b[0m \u001b[0;34m=\u001b[0m \u001b[0mpick_axis\u001b[0m\u001b[0;34m(\u001b[0m\u001b[0;34m)\u001b[0m\u001b[0;34m\u001b[0m\u001b[0;34m\u001b[0m\u001b[0m\n\u001b[1;32m      5\u001b[0m     \u001b[0mprint\u001b[0m\u001b[0;34m(\u001b[0m\u001b[0;34mf\"chosen: {choice}\"\u001b[0m\u001b[0;34m)\u001b[0m\u001b[0;34m\u001b[0m\u001b[0;34m\u001b[0m\u001b[0m\n",
      "\u001b[0;31mKeyboardInterrupt\u001b[0m: "
     ]
    }
   ],
   "source": [
    "while True:\n",
    "    swift.reset(wait=True,speed=10000)\n",
    "    time.sleep(5)\n",
    "    choice = pick_axis()\n",
    "    print(f\"chosen: {choice}\")\n",
    "    swift.set_servo_angle(choice[0],choice[1],speed=500000)"
   ]
  },
  {
   "cell_type": "code",
   "execution_count": 41,
   "metadata": {},
   "outputs": [
    {
     "name": "stdout",
     "output_type": "stream",
     "text": [
      "[INFO] 2020-10-21 16:33:29 [/usr/local/lib/python3.7/dist-packages/uArm_Python_SDK-2.0.6-py3.7.egg/uarm/comm/__init__.py:50]: connection is lost\n",
      "[DEBUG] 2020-10-21 16:33:29 [/usr/local/lib/python3.7/dist-packages/uArm_Python_SDK-2.0.6-py3.7.egg/uarm/comm/threaded.py:96]: serial read thread exit ...\n",
      "[DEBUG] 2020-10-21 16:33:29 [/usr/local/lib/python3.7/dist-packages/uArm_Python_SDK-2.0.6-py3.7.egg/uarm/swift/__init__.py:200]: serial result handle thread exit ...\n"
     ]
    }
   ],
   "source": [
    "swift.disconnect()"
   ]
  },
  {
   "cell_type": "code",
   "execution_count": null,
   "metadata": {},
   "outputs": [],
   "source": []
  }
 ],
 "metadata": {
  "kernelspec": {
   "display_name": "Python 3",
   "language": "python",
   "name": "python3"
  },
  "language_info": {
   "codemirror_mode": {
    "name": "ipython",
    "version": 3
   },
   "file_extension": ".py",
   "mimetype": "text/x-python",
   "name": "python",
   "nbconvert_exporter": "python",
   "pygments_lexer": "ipython3",
   "version": "3.7.3"
  }
 },
 "nbformat": 4,
 "nbformat_minor": 4
}
