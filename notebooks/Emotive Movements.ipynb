{
 "cells": [
  {
   "cell_type": "markdown",
   "metadata": {},
   "source": [
    "# Emotive Movements and Expressive responses"
   ]
  },
  {
   "cell_type": "code",
   "execution_count": 31,
   "metadata": {},
   "outputs": [],
   "source": [
    "import sys, time\n",
    "import numpy as np\n",
    "#the uArm application is inside of the directory \n",
    "sys.path.append('..')\n",
    "from uarm.wrapper import SwiftAPI\n",
    "\n",
    "\n",
    "swift = SwiftAPI(port=\"COM4\", callback_thread_pool_size=1)"
   ]
  },
  {
   "cell_type": "code",
   "execution_count": 41,
   "metadata": {},
   "outputs": [],
   "source": [
    "swift.reset()"
   ]
  },
  {
   "cell_type": "markdown",
   "metadata": {},
   "source": [
    "# No"
   ]
  },
  {
   "cell_type": "code",
   "execution_count": 19,
   "metadata": {},
   "outputs": [
    {
     "data": {
      "text/plain": [
       "'OK'"
      ]
     },
     "execution_count": 19,
     "metadata": {},
     "output_type": "execute_result"
    }
   ],
   "source": [
    "swift.set_servo_angle(0,wait=True)"
   ]
  },
  {
   "cell_type": "code",
   "execution_count": 53,
   "metadata": {},
   "outputs": [
    {
     "name": "stdout",
     "output_type": "stream",
     "text": [
      "[105.21, 80.69, 70.43]\n",
      "[105.21, 80.69, 70.43]\n",
      "[105.21, 80.69, 70.43]\n",
      "[105.21, 80.69, 70.43]\n"
     ]
    }
   ],
   "source": [
    "def no(speed):\n",
    "    i = [41,160,41,160]\n",
    "    for it in i:\n",
    "        swift.set_servo_angle(3,it,speed=speed,wait=True)\n",
    "        time.sleep(.2)\n",
    "        print(swift.get_servo_angle())\n",
    "        \n",
    "no(10)"
   ]
  },
  {
   "cell_type": "code",
   "execution_count": 48,
   "metadata": {},
   "outputs": [
    {
     "name": "stdout",
     "output_type": "stream",
     "text": [
      "[91.67, 90.62, 60.5]\n",
      "[85.87, 83.85, 60.5]\n",
      "[80.16, 77.35, 60.5]\n",
      "[22.85, 0.88, 60.93]\n"
     ]
    }
   ],
   "source": [
    "def yes():\n",
    "    i = [70,80,70,80]\n",
    "    for it in i:\n",
    "        swift.set_servo_angle(2,it,wait=True)\n",
    "        time.sleep(.2)\n",
    "        print(swift.get_servo_angle())\n",
    "        \n",
    "yes()"
   ]
  },
  {
   "cell_type": "code",
   "execution_count": 50,
   "metadata": {},
   "outputs": [
    {
     "name": "stdout",
     "output_type": "stream",
     "text": [
      "Help on method set_wrist in module uarm.wrapper.swift_api:\n",
      "\n",
      "set_wrist(angle=90, wait=False, timeout=10, speed=None, callback=None) method of uarm.wrapper.swift_api.SwiftAPI instance\n",
      "    Set the wrist angle (SERVO HAND)\n",
      "    :param angle: (degree, 0~180), default is 90\n",
      "    :param wait: True/False, deault is False\n",
      "    :param timeout: timeout, default is 10s\n",
      "    :param speed: (degree/min) speed of move, default is the last speed in use or 1000\n",
      "    :param callback: callback, deault is None\n",
      "    :return: 'OK' or 'TIMEOUT' if wait is True else None\n",
      "\n"
     ]
    }
   ],
   "source": [
    "help(swift.set_wrist)"
   ]
  },
  {
   "cell_type": "markdown",
   "metadata": {},
   "source": [
    "# Disconnect"
   ]
  },
  {
   "cell_type": "code",
   "execution_count": 30,
   "metadata": {},
   "outputs": [],
   "source": [
    "swift.disconnect()"
   ]
  },
  {
   "cell_type": "code",
   "execution_count": null,
   "metadata": {},
   "outputs": [],
   "source": []
  }
 ],
 "metadata": {
  "kernelspec": {
   "display_name": "Python (iot)",
   "language": "python",
   "name": "iot"
  },
  "language_info": {
   "codemirror_mode": {
    "name": "ipython",
    "version": 3
   },
   "file_extension": ".py",
   "mimetype": "text/x-python",
   "name": "python",
   "nbconvert_exporter": "python",
   "pygments_lexer": "ipython3",
   "version": "3.7.6"
  }
 },
 "nbformat": 4,
 "nbformat_minor": 4
}
