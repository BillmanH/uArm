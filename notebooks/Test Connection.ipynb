{
 "cells": [
  {
   "cell_type": "markdown",
   "metadata": {},
   "source": [
    "# Confirming that your uArm is connected and ready to use. \n",
    "\n",
    "This is a good \"hello world\" for the uArm. This will confirm that everything is set up and ready to go. I'm including the logger functions so that you can confirm that your uArm is working as it should. \n",
    "\n",
    "* uArm must be turned on\n",
    "* uArm must be connected via USB to your machine. \n",
    "* you must be running this notebook with __Administration__ permissions. \n",
    "* you can only have one connection open at a time. Make sure to `swift.disconnect()` before switching to a different notebook. \n",
    "\n",
    "If you are able to run the uArmStudio and move the arm, then you should be good to go. However make sure that you exit uArmStudio to free up the port. "
   ]
  },
  {
   "cell_type": "code",
   "execution_count": 1,
   "metadata": {},
   "outputs": [],
   "source": [
    "import sys\n",
    "#the uArm application is inside of the parent directory, this assumes that you are runing this notebook in the `notebooks` directory\n",
    "sys.path.append('..')\n",
    "\n",
    "from uarm.wrapper import SwiftAPI\n",
    "from uarm.utils.log import logger\n",
    "# The loggs are not really that readable, but might be useful in troubleshooting. \n",
    "# logger.setLevel(logger.VERBOSE)\n",
    "logger.setLevel(logger.INFO)"
   ]
  },
  {
   "cell_type": "markdown",
   "metadata": {},
   "source": [
    "This next item establishes a link between the uArm and your kernel. You can only run this once as only one connection is allowed. Also, if you are running uArmStudio or any other application that connects to the arm this next line will throw an exception. \n",
    "\n",
    "if you get: \n",
    "```\n",
    "SerialException could not open port 'COM3': PermissionError(13, 'Access is denied.', None, 5)\n",
    "```\n",
    "\n",
    "It means that either you are not running with __administrator__ permissions or something else has already made a connection. "
   ]
  },
  {
   "cell_type": "code",
   "execution_count": 3,
   "metadata": {},
   "outputs": [
    {
     "name": "stdout",
     "output_type": "stream",
     "text": [
      "[INFO] 2021-11-14 16:31:41 [c:\\Users\\william.harding\\Documents\\repos\\uArm\\notebooks\\..\\uarm\\comm\\__init__.py:98]: connect COM3 success\n",
      "[WARNING] 2021-11-14 16:31:41 [c:\\Users\\william.harding\\Documents\\repos\\uArm\\notebooks\\..\\uarm\\comm\\__init__.py:84]: serial is open, no need reconnect\n"
     ]
    }
   ],
   "source": [
    "from uarm.wrapper import SwiftAPI\n",
    "swift = SwiftAPI()\n",
    "                          \n",
    "swift.connect()"
   ]
  },
  {
   "cell_type": "markdown",
   "metadata": {},
   "source": [
    "Things to troubleshoot (Windows):\n",
    "* Administrator mode\n",
    "* Open the device manager, disable the device and enable it again. \n",
    "* Restart your computer\n",
    "* Make sure that UarmStudio or any other program using the arm is closed\n",
    "* Make sure you are specifying the correct port"
   ]
  },
  {
   "cell_type": "code",
   "execution_count": 7,
   "metadata": {},
   "outputs": [],
   "source": [
    "# Note if you are running this you will need to make sure that you run with \"Administrator Permissions\"\n",
    "swift = SwiftAPI(callback_thread_pool_size=1)\n",
    "\n",
    "# Specifying the com port on my windows machine. Didn't have to do this on my Raspberry Pi.\n",
    "swift = SwiftAPI(port=\"COM1\", callback_thread_pool_size=1)"
   ]
  },
  {
   "cell_type": "markdown",
   "metadata": {},
   "source": [
    "If you get anything but an error the device is likely connected. On mine there is a loud single **beep** from the arm when it is connected. "
   ]
  },
  {
   "cell_type": "code",
   "execution_count": 4,
   "metadata": {},
   "outputs": [
    {
     "name": "stdout",
     "output_type": "stream",
     "text": [
      "{'device_type': 'SwiftPro', 'hardware_version': '3.3.1', 'firmware_version': '3.2.0', 'api_version': '3.2.0', 'device_unique': '78DB2FB28F96'}\n"
     ]
    }
   ],
   "source": [
    "device_info = swift.get_device_info()\n",
    "print(device_info)"
   ]
  },
  {
   "cell_type": "markdown",
   "metadata": {},
   "source": [
    "##  Make some small movements to confirm that it's connected"
   ]
  },
  {
   "cell_type": "code",
   "execution_count": 8,
   "metadata": {},
   "outputs": [],
   "source": [
    "swift.set_position(x=200, y=0, z=100)"
   ]
  },
  {
   "cell_type": "markdown",
   "metadata": {},
   "source": [
    "The arm should have moved. To test, try entering another coordinate. "
   ]
  },
  {
   "cell_type": "code",
   "execution_count": 9,
   "metadata": {},
   "outputs": [],
   "source": [
    "swift.set_position(x=100, y=100, z=130)"
   ]
  },
  {
   "cell_type": "markdown",
   "metadata": {},
   "source": [
    "## Close the connection\n",
    "\n",
    "At the end, disconnect from the Arm so that other applications can use it. "
   ]
  },
  {
   "cell_type": "code",
   "execution_count": 10,
   "metadata": {},
   "outputs": [
    {
     "name": "stdout",
     "output_type": "stream",
     "text": [
      "[INFO] 2021-11-14 16:32:47 [c:\\Users\\william.harding\\Documents\\repos\\uArm\\notebooks\\..\\uarm\\comm\\__init__.py:50]: connection is lost\n"
     ]
    }
   ],
   "source": [
    "swift.disconnect()"
   ]
  },
  {
   "cell_type": "code",
   "execution_count": null,
   "metadata": {},
   "outputs": [],
   "source": []
  }
 ],
 "metadata": {
  "interpreter": {
   "hash": "cc9ff8fc5ea27147a0a92f007fd96dbe806fecb23f7f7b0563484ca93394f306"
  },
  "kernelspec": {
   "display_name": "Python (uArm)",
   "language": "python",
   "name": "python3"
  },
  "language_info": {
   "codemirror_mode": {
    "name": "ipython",
    "version": 3
   },
   "file_extension": ".py",
   "mimetype": "text/x-python",
   "name": "python",
   "nbconvert_exporter": "python",
   "pygments_lexer": "ipython3",
   "version": "3.9.7"
  }
 },
 "nbformat": 4,
 "nbformat_minor": 4
}
