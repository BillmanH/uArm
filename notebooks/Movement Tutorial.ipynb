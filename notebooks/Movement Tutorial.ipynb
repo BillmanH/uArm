{
 "cells": [
  {
   "cell_type": "markdown",
   "metadata": {},
   "source": [
    "# The Basics of moving and controlling. "
   ]
  },
  {
   "cell_type": "code",
   "execution_count": 1,
   "metadata": {},
   "outputs": [],
   "source": [
    "import sys\n",
    "#the uArm application is inside of the directory \n",
    "sys.path.append('..')\n",
    "from uarm.wrapper import SwiftAPI\n",
    "\n",
    "\n",
    "swift = SwiftAPI(port=\"COM4\", callback_thread_pool_size=1)"
   ]
  },
  {
   "cell_type": "markdown",
   "metadata": {},
   "source": [
    "## Set the arm back to the center. "
   ]
  },
  {
   "cell_type": "code",
   "execution_count": 2,
   "metadata": {},
   "outputs": [],
   "source": [
    "swift.reset(wait=True)"
   ]
  },
  {
   "cell_type": "markdown",
   "metadata": {},
   "source": [
    "## First, where is the arm right now?\n"
   ]
  },
  {
   "cell_type": "code",
   "execution_count": 20,
   "metadata": {},
   "outputs": [
    {
     "data": {
      "text/plain": [
       "[100.0, 100.0, 100.0]"
      ]
     },
     "execution_count": 20,
     "metadata": {},
     "output_type": "execute_result"
    }
   ],
   "source": [
    "swift.get_position()"
   ]
  },
  {
   "cell_type": "markdown",
   "metadata": {},
   "source": [
    "The angle here is in `[x,y,z]`\n",
    "\n",
    "If you were the arm, with the cables connected to your back and looking forward.\n",
    "* `x` = left and right \n",
    "* `y` = the arm stretched outward or contracted inward\n",
    "* `z` = up and down. "
   ]
  },
  {
   "cell_type": "code",
   "execution_count": 18,
   "metadata": {},
   "outputs": [
    {
     "data": {
      "text/plain": [
       "'OK'"
      ]
     },
     "execution_count": 18,
     "metadata": {},
     "output_type": "execute_result"
    }
   ],
   "source": [
    "swift.set_position(x=100, y=10, z=100,wait=True)"
   ]
  },
  {
   "cell_type": "code",
   "execution_count": 8,
   "metadata": {},
   "outputs": [
    {
     "data": {
      "text/plain": [
       "[200.0, 0.0, 150.0]"
      ]
     },
     "execution_count": 8,
     "metadata": {},
     "output_type": "execute_result"
    }
   ],
   "source": [
    "swift.get_position()"
   ]
  },
  {
   "cell_type": "code",
   "execution_count": 16,
   "metadata": {},
   "outputs": [
    {
     "data": {
      "text/plain": [
       "'OK'"
      ]
     },
     "execution_count": 16,
     "metadata": {},
     "output_type": "execute_result"
    }
   ],
   "source": [
    "swift.set_position(x=100, y=100, z=100,wait=True)"
   ]
  },
  {
   "cell_type": "code",
   "execution_count": 15,
   "metadata": {},
   "outputs": [
    {
     "data": {
      "text/plain": [
       "[100.0, 100.0, 100.0]"
      ]
     },
     "execution_count": 15,
     "metadata": {},
     "output_type": "execute_result"
    }
   ],
   "source": [
    "swift.get_position()"
   ]
  },
  {
   "cell_type": "markdown",
   "metadata": {},
   "source": [
    "### Setting the speed\n",
    "\n",
    "Each use of the `speed` keyword argument sets the global speed. Not just the speed for that movement. \n",
    "\n",
    "100 -- really, really slow.\n",
    "\n",
    "1000 -- slow (default). \n",
    "\n",
    "**Note** - There is a middle ground between 10000 and 50000 that is kind of choppy. I'd use one of these values. \n",
    "\n",
    "500000 -- Relatively fast. \n",
    "\n",
    "If you set the the value to outside of the _undocumented_ range, none of the movements will work. "
   ]
  },
  {
   "cell_type": "code",
   "execution_count": 122,
   "metadata": {},
   "outputs": [],
   "source": [
    "# change the value of speed to see it go faster. \n",
    "swift.reset(wait=True, speed=500000)"
   ]
  },
  {
   "cell_type": "code",
   "execution_count": 121,
   "metadata": {},
   "outputs": [
    {
     "data": {
      "text/plain": [
       "'OK'"
      ]
     },
     "execution_count": 121,
     "metadata": {},
     "output_type": "execute_result"
    }
   ],
   "source": [
    "# without changing the speed here, it will use the speed from above. \n",
    "swift.set_position(x=100, y=100, z=100,wait=True)"
   ]
  },
  {
   "cell_type": "markdown",
   "metadata": {},
   "source": [
    "## Setting a relative position\n",
    "\n",
    "For incremental movements, relative to where _the arm currently is_ use `relative=True`. In this case only use very small amounts. \n",
    "\n",
    "Note that moving the position here may actually move more than one of the servos. This is because it is moving to a specific place on an X,Y,Z plane. "
   ]
  },
  {
   "cell_type": "code",
   "execution_count": 108,
   "metadata": {},
   "outputs": [
    {
     "data": {
      "text/plain": [
       "'OK'"
      ]
     },
     "execution_count": 108,
     "metadata": {},
     "output_type": "execute_result"
    }
   ],
   "source": [
    "swift.set_position(x=10,relative=True,wait=True)"
   ]
  },
  {
   "cell_type": "code",
   "execution_count": 127,
   "metadata": {},
   "outputs": [
    {
     "data": {
      "text/plain": [
       "'OK'"
      ]
     },
     "execution_count": 127,
     "metadata": {},
     "output_type": "execute_result"
    }
   ],
   "source": [
    "#down \n",
    "swift.set_position(x=-10,relative=True,wait=True)\n",
    "swift.set_position(y=-10,relative=True,wait=True)\n",
    "swift.set_position(z=-10,relative=True,wait=True)\n",
    "#back\n",
    "swift.set_position(x=10,relative=True,wait=True)\n",
    "swift.set_position(y=10,relative=True,wait=True)\n",
    "swift.set_position(z=10,relative=True,wait=True)"
   ]
  },
  {
   "cell_type": "markdown",
   "metadata": {},
   "source": [
    "# Moving individual components\n",
    "\n",
    "## by ANGLE\n",
    "\n",
    "servo_id：\n",
    "* 0: BOTTOM - \"Rotates the arm on the base\"\n",
    "* 1: LEFT - \"Stretches the arm outward\"\n",
    "* 2: RIGHT - \n",
    "* 3: HAND - \"Gripper wrist\"\n",
    "\n",
    "Note that 3(wrist) does not print out in the `get_servo_angle` \n",
    "\n",
    "when setting any angle, remember the following: \n",
    "* 0 is the far left. \n",
    "* 90 in center\n",
    "* 180 is far right\n",
    "\n",
    "However you have to think about the position of the servo, not the position of the arm. For example on the bottom (base) servo, going from 90 degrees to zero moves servo counter clockwise. However you are facing the other way so the servo turns clockwise and the arm moves to the right. "
   ]
  },
  {
   "cell_type": "code",
   "execution_count": 29,
   "metadata": {},
   "outputs": [],
   "source": [
    "# Base motor\n",
    "swift.set_servo_angle(0,100)"
   ]
  },
  {
   "cell_type": "code",
   "execution_count": 30,
   "metadata": {},
   "outputs": [],
   "source": [
    "swift.set_servo_angle(1,0)"
   ]
  },
  {
   "cell_type": "code",
   "execution_count": 31,
   "metadata": {},
   "outputs": [],
   "source": [
    "swift.set_servo_angle(2,180)"
   ]
  },
  {
   "cell_type": "code",
   "execution_count": 32,
   "metadata": {},
   "outputs": [],
   "source": [
    "swift.set_servo_angle(3,0)"
   ]
  },
  {
   "cell_type": "code",
   "execution_count": 33,
   "metadata": {},
   "outputs": [
    {
     "data": {
      "text/plain": [
       "'TIMEOUT'"
      ]
     },
     "execution_count": 33,
     "metadata": {},
     "output_type": "execute_result"
    }
   ],
   "source": [
    "swift.get_servo_angle()"
   ]
  },
  {
   "cell_type": "code",
   "execution_count": 28,
   "metadata": {},
   "outputs": [
    {
     "data": {
      "text/plain": [
       "0.0"
      ]
     },
     "execution_count": 28,
     "metadata": {},
     "output_type": "execute_result"
    }
   ],
   "source": [
    "swift.get_servo_angle(servo_id=1)"
   ]
  },
  {
   "cell_type": "code",
   "execution_count": 34,
   "metadata": {},
   "outputs": [],
   "source": [
    "swift.reset(wait=True, speed=500000)"
   ]
  },
  {
   "cell_type": "markdown",
   "metadata": {},
   "source": [
    "## by POSITION"
   ]
  },
  {
   "cell_type": "markdown",
   "metadata": {},
   "source": [
    "Parameter：\n",
    "* x：X axis value, default value: None, use the X value of last movement or initial value 150.\n",
    "* y：Y axis value, default value: None, use the Y value of last movement or initial value 0.\n",
    "* z：Z axis value, default value: None, use the Z value of last movement or initial value 150.\n",
    "* speed：speed value, default value: None, use the speed value of last movement for default speed 1000.\n",
    "* relative：is/isn’t relative movement, default value: False\n",
    "* wait：do/don’t wait for return, default value: False\n"
   ]
  },
  {
   "cell_type": "code",
   "execution_count": 14,
   "metadata": {},
   "outputs": [],
   "source": [
    "swift.set_position()"
   ]
  },
  {
   "cell_type": "markdown",
   "metadata": {},
   "source": [
    "### 4th motor (the wrist arm of the grabber)\n",
    "\n",
    "* **Angle** A value between 0 and 180. 0 = far left, 180 = far right, 90 = center"
   ]
  },
  {
   "cell_type": "code",
   "execution_count": 15,
   "metadata": {},
   "outputs": [],
   "source": [
    "swift.set_wrist(10)"
   ]
  },
  {
   "cell_type": "markdown",
   "metadata": {},
   "source": [
    "### the gripper (if attached)\n",
    "\n",
    "`True` = closes the gripper\n",
    "`False` = opens the gripper"
   ]
  },
  {
   "cell_type": "code",
   "execution_count": 133,
   "metadata": {},
   "outputs": [
    {
     "data": {
      "text/plain": [
       "'OK'"
      ]
     },
     "execution_count": 133,
     "metadata": {},
     "output_type": "execute_result"
    }
   ],
   "source": [
    "swift.set_gripper(True)"
   ]
  },
  {
   "cell_type": "markdown",
   "metadata": {},
   "source": [
    "##  QA\n"
   ]
  },
  {
   "cell_type": "code",
   "execution_count": 17,
   "metadata": {},
   "outputs": [
    {
     "data": {
      "text/plain": [
       "{'current_temperature': 0.0, 'target_temperature': 0.0}"
      ]
     },
     "execution_count": 17,
     "metadata": {},
     "output_type": "execute_result"
    }
   ],
   "source": [
    "swift.get_temperature()"
   ]
  },
  {
   "cell_type": "code",
   "execution_count": 18,
   "metadata": {},
   "outputs": [
    {
     "data": {
      "text/plain": [
       "True"
      ]
     },
     "execution_count": 18,
     "metadata": {},
     "output_type": "execute_result"
    }
   ],
   "source": [
    "swift.get_power_status()"
   ]
  },
  {
   "cell_type": "code",
   "execution_count": 19,
   "metadata": {},
   "outputs": [
    {
     "data": {
      "text/plain": [
       "{'device_type': 'SwiftPro',\n",
       " 'hardware_version': '3.3.1',\n",
       " 'firmware_version': '3.2.0',\n",
       " 'api_version': '3.2.0',\n",
       " 'device_unique': '78DB2FB28F96'}"
      ]
     },
     "execution_count": 19,
     "metadata": {},
     "output_type": "execute_result"
    }
   ],
   "source": [
    "swift.get_device_info()"
   ]
  },
  {
   "cell_type": "code",
   "execution_count": 20,
   "metadata": {},
   "outputs": [
    {
     "data": {
      "text/plain": [
       "0"
      ]
     },
     "execution_count": 20,
     "metadata": {},
     "output_type": "execute_result"
    }
   ],
   "source": [
    "swift.get_mode()"
   ]
  },
  {
   "cell_type": "code",
   "execution_count": 21,
   "metadata": {},
   "outputs": [
    {
     "data": {
      "text/plain": [
       "True"
      ]
     },
     "execution_count": 21,
     "metadata": {},
     "output_type": "execute_result"
    }
   ],
   "source": [
    "swift.get_servo_attach()"
   ]
  },
  {
   "cell_type": "markdown",
   "metadata": {},
   "source": [
    "## Cleanup: disconnect"
   ]
  },
  {
   "cell_type": "code",
   "execution_count": 35,
   "metadata": {},
   "outputs": [],
   "source": [
    "swift.disconnect()"
   ]
  },
  {
   "cell_type": "code",
   "execution_count": null,
   "metadata": {},
   "outputs": [],
   "source": []
  }
 ],
 "metadata": {
  "kernelspec": {
   "display_name": "Python 3",
   "language": "python",
   "name": "python3"
  },
  "language_info": {
   "codemirror_mode": {
    "name": "ipython",
    "version": 3
   },
   "file_extension": ".py",
   "mimetype": "text/x-python",
   "name": "python",
   "nbconvert_exporter": "python",
   "pygments_lexer": "ipython3",
   "version": "3.7.3"
  }
 },
 "nbformat": 4,
 "nbformat_minor": 4
}
